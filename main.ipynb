{
 "cells": [
  {
   "cell_type": "markdown",
   "metadata": {},
   "source": [
    "wait for fill"
   ]
  },
  {
   "cell_type": "markdown",
   "metadata": {},
   "source": [
    "> Step 0. Introduction - Importing libraries and loading data\n",
    "\n",
    "> Step 1. Data analysis and preprocessing\n",
    "\n",
    "> Step 2. Model selection\n",
    "\n",
    "> Step 3. Model training\n",
    "\n",
    "> Step 4. Model evaluation\n",
    "\n",
    "> Step 5. Model prediction\n",
    "\n",
    "> Step 6. Model submission\n",
    "\n",
    "> Step 7. Conclusion"
   ]
  },
  {
   "cell_type": "markdown",
   "metadata": {},
   "source": [
    "First, import the necessary libraries section."
   ]
  },
  {
   "cell_type": "code",
   "execution_count": 18,
   "metadata": {},
   "outputs": [],
   "source": [
    "# Python library\n",
    "import os\n",
    "import sys\n",
    "import time\n",
    "import pandas as pd\n",
    "import numpy as np\n",
    "import matplotlib.pyplot as plt\n",
    "import seaborn as sns\n",
    "import pickle as pkl\n",
    "import yaml\n",
    "import albumentations as A\n",
    "\n",
    "from glob import glob\n",
    "from tqdm import tqdm\n",
    "from PIL import Image\n",
    "from concurrent.futures import ProcessPoolExecutor, as_completed, ThreadPoolExecutor\n",
    "\n",
    "# Sklearn library\n",
    "from sklearn.metrics import confusion_matrix\n",
    "from sklearn.model_selection import train_test_split\n",
    "from sklearn.metrics import classification_report\n",
    "from sklearn.preprocessing import LabelEncoder\n",
    "\n",
    "# Pytorch library\n",
    "import torch\n",
    "from torch import optim, nn\n",
    "from torch.autograd import Variable\n",
    "from torch.utils.data import DataLoader,Dataset\n",
    "from torchvision import models,transforms\n",
    "\n",
    "# CV2 library\n",
    "import cv2"
   ]
  },
  {
   "cell_type": "code",
   "execution_count": 19,
   "metadata": {},
   "outputs": [
    {
     "name": "stdout",
     "output_type": "stream",
     "text": [
      "Project name:  Cancer Detection\n",
      "Project version:  DPL302m Project - Fall 2024 of Group 1\n",
      "Project author:  1.0.0\n",
      "Data path:  {'data_path': 'data/', 'csv_path': 'data/HAM10000_metadata.csv', 'images_path': 'data/images/'}\n",
      "N workers:  16\n",
      "Batch size:  32\n",
      "Preprocessing configuration\n",
      "Augmentation ratios:  2\n"
     ]
    }
   ],
   "source": [
    "# Load configuration\n",
    "with open('config.yaml') as f:\n",
    "    config = yaml.load(f, Loader=yaml.FullLoader)\n",
    "\n",
    "# Project information\n",
    "print('Project name: ', config['project']['name'])\n",
    "print('Project version: ', config['project']['description'])\n",
    "print('Project author: ', config['project']['version'])\n",
    "\n",
    "# Data location\n",
    "print('Data path: ', config['data'])\n",
    "data_path = config['data']['data_path']\n",
    "csv_path = config['data']['csv_path']\n",
    "images_path = config['data']['images_path']\n",
    "n_workers = config['training']['n_workers']\n",
    "batch_size = config['training']['batch_size']\n",
    "print('N workers: ', n_workers)\n",
    "print('Batch size: ', batch_size)\n",
    "\n",
    "# Preprocessing configuration\n",
    "print('Preprocessing configuration')\n",
    "augmentation_ratio = config['preprocessing']['augmentation']['ratio']\n",
    "print('Augmentation ratios: ', augmentation_ratio)\n",
    "\n",
    "# Create a dictionary for images location\n",
    "lesion_type_dict = {\n",
    "    'nv': 'Melanocytic nevi',\n",
    "    'mel': 'dermatofibroma',\n",
    "    'bkl': 'Benign keratosis-like lesions ',\n",
    "    'bcc': 'Basal cell carcinoma',\n",
    "    'akiec': 'Actinic keratoses',\n",
    "    'vasc': 'Vascular lesions',\n",
    "    'df': 'Dermatofibroma'\n",
    "}"
   ]
  },
  {
   "cell_type": "code",
   "execution_count": 20,
   "metadata": {},
   "outputs": [],
   "source": [
    "# Data reading\n",
    "data = pd.read_csv(csv_path)"
   ]
  },
  {
   "cell_type": "code",
   "execution_count": 21,
   "metadata": {},
   "outputs": [],
   "source": [
    "def data_check(data):\n",
    "    # Show data types\n",
    "    print('Data types:')\n",
    "    print(data.dtypes)\n",
    "    print()\n",
    "    \n",
    "    # Show unique values for each column (skip image_id and lesion_id)\n",
    "    print('Unique values for each column:')\n",
    "    for col in data.columns:\n",
    "        if col in ['image_id', 'lesion_id']:\n",
    "            continue\n",
    "        print(f\"{col}: {data[col].unique()[:5]}...\")  # Hiển thị một vài giá trị đầu\n",
    "    print()\n",
    "    \n",
    "    # Count NaN values\n",
    "    print('NaN values in each column:')\n",
    "    nan_counts = data.isnull().sum()\n",
    "    print(nan_counts[nan_counts > 0])\n",
    "    print()\n",
    "    \n",
    "    # Count 'unknown' values (only for object columns)\n",
    "    print('Unknown values in each column:')\n",
    "    for col in data.select_dtypes(include=['object']).columns:\n",
    "        unknown_count = data[data[col] == 'unknown'].shape[0]\n",
    "        if unknown_count > 0:\n",
    "            print(f\"{col}: {unknown_count}\")\n",
    "    print()\n",
    "    \n",
    "    # Summary\n",
    "    print(\"Summary of potential data issues:\")\n",
    "    print(f\"- Columns with NaN values: {nan_counts[nan_counts > 0].index.tolist()}\")\n",
    "    print(f\"- Columns with 'unknown' values: {[col for col in data.columns if 'unknown' in data[col].values]}\")\n",
    "\n"
   ]
  },
  {
   "cell_type": "code",
   "execution_count": 22,
   "metadata": {},
   "outputs": [
    {
     "name": "stdout",
     "output_type": "stream",
     "text": [
      "Data types:\n",
      "lesion_id        object\n",
      "image_id         object\n",
      "dx               object\n",
      "dx_type          object\n",
      "age             float64\n",
      "sex              object\n",
      "localization     object\n",
      "dtype: object\n",
      "\n",
      "Unique values for each column:\n",
      "dx: ['bkl' 'nv' 'df' 'mel' 'vasc']...\n",
      "dx_type: ['histo' 'consensus' 'confocal' 'follow_up']...\n",
      "age: [80. 75. 60. 70. 55.]...\n",
      "sex: ['male' 'female' 'unknown']...\n",
      "localization: ['scalp' 'ear' 'face' 'back' 'trunk']...\n",
      "\n",
      "NaN values in each column:\n",
      "age    57\n",
      "dtype: int64\n",
      "\n",
      "Unknown values in each column:\n",
      "sex: 57\n",
      "localization: 234\n",
      "\n",
      "Summary of potential data issues:\n",
      "- Columns with NaN values: ['age']\n",
      "- Columns with 'unknown' values: ['sex', 'localization']\n"
     ]
    }
   ],
   "source": [
    "data_check(data)"
   ]
  },
  {
   "cell_type": "code",
   "execution_count": 23,
   "metadata": {},
   "outputs": [],
   "source": [
    "def data_cleaning(data):\n",
    "    # Drop duplicates defined by 'image_id' and 'lesion_id'\n",
    "    data = data.drop_duplicates(subset=['image_id', 'lesion_id'])\n",
    "    \n",
    "    # Drop values with NaN\n",
    "    data = data.dropna(subset=['age', 'sex', 'localization'])\n",
    "    data = data[data['age'] != 'unknown']\n",
    "    data = data[data['sex'] != 'unknown']\n",
    "    data = data[data['localization'] != 'unknown']\n",
    "\n",
    "    # Convert 'age' to int\n",
    "    try:\n",
    "        data['age'] = data['age'].astype(int)\n",
    "    except ValueError:\n",
    "        print(\"Some 'age' values could not be converted to int.\")\n",
    "    \n",
    "    # Create label encoders for each categorical column\n",
    "    label_encoder_dx = LabelEncoder()\n",
    "    label_encoder_dx_type = LabelEncoder()\n",
    "    label_encoder_sex = LabelEncoder()\n",
    "    label_encoder_localization = LabelEncoder()\n",
    "\n",
    "    # Encode labels\n",
    "    data['dx_code'] = label_encoder_dx.fit_transform(data['dx'])\n",
    "    data['dx_type_code'] = label_encoder_dx_type.fit_transform(data['dx_type'])\n",
    "    data['sex_code'] = label_encoder_sex.fit_transform(data['sex'])\n",
    "    data['localization_code'] = label_encoder_localization.fit_transform(data['localization'])\n",
    "\n",
    "    # Add location of images\n",
    "    data['image_id'] = data['image_id'].apply(lambda x: os.path.join(images_path, x + '.jpg'))\n",
    "\n",
    "    print('Data after cleaning:')\n",
    "    print(data.head())\n",
    "\n",
    "    data = data.reset_index(drop=True)\n",
    "\n",
    "    return data"
   ]
  },
  {
   "cell_type": "code",
   "execution_count": 24,
   "metadata": {},
   "outputs": [
    {
     "name": "stdout",
     "output_type": "stream",
     "text": [
      "Data after cleaning:\n",
      "     lesion_id                      image_id   dx dx_type  age   sex  \\\n",
      "0  HAM_0000118  data/images/ISIC_0027419.jpg  bkl   histo   80  male   \n",
      "1  HAM_0000118  data/images/ISIC_0025030.jpg  bkl   histo   80  male   \n",
      "2  HAM_0002730  data/images/ISIC_0026769.jpg  bkl   histo   80  male   \n",
      "3  HAM_0002730  data/images/ISIC_0025661.jpg  bkl   histo   80  male   \n",
      "4  HAM_0001466  data/images/ISIC_0031633.jpg  bkl   histo   75  male   \n",
      "\n",
      "  localization  dx_code  dx_type_code  sex_code  localization_code  \n",
      "0        scalp        2             3         1                 11  \n",
      "1        scalp        2             3         1                 11  \n",
      "2        scalp        2             3         1                 11  \n",
      "3        scalp        2             3         1                 11  \n",
      "4          ear        2             3         1                  4  \n",
      "Data types:\n",
      "lesion_id            object\n",
      "image_id             object\n",
      "dx                   object\n",
      "dx_type              object\n",
      "age                   int64\n",
      "sex                  object\n",
      "localization         object\n",
      "dx_code               int64\n",
      "dx_type_code          int64\n",
      "sex_code              int64\n",
      "localization_code     int64\n",
      "dtype: object\n",
      "\n",
      "Unique values for each column:\n",
      "dx: ['bkl' 'nv' 'df' 'mel' 'vasc']...\n",
      "dx_type: ['histo' 'consensus' 'confocal' 'follow_up']...\n",
      "age: [80 75 60 70 55]...\n",
      "sex: ['male' 'female']...\n",
      "localization: ['scalp' 'ear' 'face' 'back' 'trunk']...\n",
      "dx_code: [2 5 3 4 6]...\n",
      "dx_type_code: [3 1 0 2]...\n",
      "sex_code: [1 0]...\n",
      "localization_code: [11  4  5  2 12]...\n",
      "\n",
      "NaN values in each column:\n",
      "Series([], dtype: int64)\n",
      "\n",
      "Unknown values in each column:\n",
      "\n",
      "Summary of potential data issues:\n",
      "- Columns with NaN values: []\n",
      "- Columns with 'unknown' values: []\n"
     ]
    }
   ],
   "source": [
    "data = data_cleaning(data)\n",
    "data_check(data)"
   ]
  },
  {
   "cell_type": "markdown",
   "metadata": {},
   "source": []
  },
  {
   "cell_type": "code",
   "execution_count": 25,
   "metadata": {},
   "outputs": [],
   "source": [
    "def split_data(data, test_size=0.2, random_state=42):\n",
    "    # Split data into training and testing sets\n",
    "    train_data, test_data = train_test_split(data, test_size=test_size, random_state=random_state)\n",
    "    print(\"Train data shape:\", train_data.shape)\n",
    "    print(\"Test data shape:\", test_data.shape)\n",
    "\n",
    "    return train_data, test_data"
   ]
  },
  {
   "cell_type": "code",
   "execution_count": 26,
   "metadata": {},
   "outputs": [
    {
     "name": "stdout",
     "output_type": "stream",
     "text": [
      "Train data shape: (7808, 11)\n",
      "Test data shape: (1953, 11)\n"
     ]
    }
   ],
   "source": [
    "train_data, test_data = split_data(data, config['training']['test_size'], config['training']['random_state'])"
   ]
  },
  {
   "cell_type": "code",
   "execution_count": 27,
   "metadata": {},
   "outputs": [],
   "source": [
    "def process_batch1(batch):\n",
    "    images = []\n",
    "    for index, row in batch.iterrows():\n",
    "        image_path = row['image_id']  # Sử dụng đường dẫn đầy đủ từ image_id\n",
    "        image = cv2.imread(image_path)\n",
    "        if image is None:\n",
    "            print('Image not found: ', image_path)\n",
    "            continue\n",
    "        # Preprocess image\n",
    "        image = cv2.resize(image, (224, 224))\n",
    "        image = cv2.cvtColor(image, cv2.COLOR_BGR2RGB)\n",
    "        images.append(image)\n",
    "    return images\n",
    "\n",
    "def load_images(data, batch_size=32, num_workers=4):\n",
    "    all_images = []\n",
    "    batches = [data[i:i + batch_size] for i in range(0, len(data), batch_size)]\n",
    "    st = time.time()\n",
    "    with ThreadPoolExecutor(max_workers=num_workers) as executor:\n",
    "        futures = {executor.submit(process_batch1, batch): batch for batch in batches}\n",
    "\n",
    "        for future in tqdm(as_completed(futures), total=len(futures)):\n",
    "            img_batch = future.result()\n",
    "            if img_batch is not None:\n",
    "                all_images.extend(img_batch)\n",
    "    et = time.time()\n",
    "    print('Loaded {} images in {} seconds'.format(len(all_images), et - st))\n",
    "    return all_images"
   ]
  },
  {
   "cell_type": "code",
   "execution_count": 28,
   "metadata": {},
   "outputs": [
    {
     "name": "stderr",
     "output_type": "stream",
     "text": [
      "100%|██████████| 306/306 [00:08<00:00, 36.89it/s]\n"
     ]
    },
    {
     "name": "stdout",
     "output_type": "stream",
     "text": [
      "Loaded 9761 images in 8.331885576248169 seconds\n"
     ]
    }
   ],
   "source": [
    "# Load train images\n",
    "images = load_images(data, batch_size=batch_size, num_workers=n_workers)"
   ]
  },
  {
   "cell_type": "code",
   "execution_count": 29,
   "metadata": {},
   "outputs": [],
   "source": [
    "def type_count(data, rate):\n",
    "    lesion_type = data.groupby(data['dx']).count()\n",
    "    lesion_type = lesion_type.reset_index()\n",
    "    lesion_type = lesion_type[['dx', 'image_id']]\n",
    "    lesion_type.columns = ['dx', 'count']\n",
    "    lesion_type = lesion_type.sort_values(by='count', ascending=False)\n",
    "    print(lesion_type)\n",
    "    max_count = lesion_type['count'].max()\n",
    "    augmentation_counts = {}\n",
    "    for index, row in lesion_type.iterrows():\n",
    "        augmentation_counts[row['dx']] = int(max_count / row['count'] * rate)\n",
    "    return augmentation_counts"
   ]
  },
  {
   "cell_type": "code",
   "execution_count": 30,
   "metadata": {},
   "outputs": [
    {
     "name": "stdout",
     "output_type": "stream",
     "text": [
      "      dx  count\n",
      "5     nv   5205\n",
      "4    mel    876\n",
      "2    bkl    849\n",
      "1    bcc    404\n",
      "0  akiec    265\n",
      "6   vasc    120\n",
      "3     df     89\n",
      "Augmentation Ratios: {'nv': 2, 'mel': 11, 'bkl': 12, 'bcc': 25, 'akiec': 39, 'vasc': 86, 'df': 116}\n",
      "      dx  count\n",
      "5     nv   1286\n",
      "2    bkl    227\n",
      "4    mel    225\n",
      "1    bcc    105\n",
      "0  akiec     62\n",
      "3     df     26\n",
      "6   vasc     22\n"
     ]
    }
   ],
   "source": [
    "augmentation_counts = type_count(train_data, config['preprocessing']['augmentation']['ratio'])\n",
    "print(\"Augmentation Ratios:\", augmentation_counts)\n",
    "_ = type_count(test_data, 0)"
   ]
  },
  {
   "cell_type": "code",
   "execution_count": 31,
   "metadata": {},
   "outputs": [],
   "source": [
    "def augment_images(data, images_array, augmentation_counts):\n",
    "    # Define augmentations by albumentations library\n",
    "    augmentations = A.Compose([\n",
    "        A.HorizontalFlip(p=0.25),\n",
    "        A.VerticalFlip(p=0.25),\n",
    "        A.Rotate(limit=(90, 90), p=0.25),\n",
    "        A.Rotate(limit=(180, 180), p=0.25),  \n",
    "        A.Rotate(limit=(270, 270), p=0.25),  \n",
    "          A.RandomBrightnessContrast(brightness_limit=(0.1, 0.1), contrast_limit=(0.1, 0.1), p=0.25),\n",
    "        ])\n",
    "    \n",
    "    print(f'Number of images: {len(images_array)}, Number of rows in data: {len(data)}')\n",
    "    augmented_images = []\n",
    "    augmented_data = []\n",
    "\n",
    "    for index, row in data.iterrows():\n",
    "        lesion_type = row['dx']\n",
    "        count = augmentation_counts.get(lesion_type, 0)\n",
    "        if count == 0:\n",
    "            continue\n",
    "        \n",
    "        image = images_array[index]\n",
    "        \n",
    "        for _ in range(count):\n",
    "            if _ == 0:\n",
    "                augmented_images.append(image)\n",
    "                augmented_row = row.copy()\n",
    "                augmented_row['image_id'] = row['image_id'] + '_original'\n",
    "                augmented_data.append(augmented_row)\n",
    "                continue\n",
    "            \n",
    "            augment_image = augmentations(image=image)\n",
    "            augmented_images.append(augment_image['image'])\n",
    "            augmented_row = row.copy()\n",
    "            augmented_row['image_id'] = row['image_id'] + '_augmented_' + str(_)\n",
    "            augmented_data.append(augmented_row)\n",
    "            \n",
    "    augmented_data = pd.DataFrame(augmented_data)\n",
    "    return augmented_data, augmented_images"
   ]
  },
  {
   "cell_type": "code",
   "execution_count": 32,
   "metadata": {},
   "outputs": [],
   "source": [
    "def augment_image_worker(row, image, augmentations, augmentation_counts):\n",
    "    augmented_images = []\n",
    "    augmented_data = []\n",
    "    \n",
    "    lesion_type = row['dx']\n",
    "    count = augmentation_counts.get(lesion_type, 0)\n",
    "    if count == 0:\n",
    "        return None, None\n",
    "    \n",
    "    for _ in range(count):\n",
    "        if _ == 0:\n",
    "            augmented_images.append(image)\n",
    "            augmented_row = row.copy()\n",
    "            augmented_row['image_id'] = row['image_id'] + '_original'\n",
    "            augmented_data.append(augmented_row)\n",
    "            continue\n",
    "        \n",
    "        augment_image = augmentations(image=image)\n",
    "        augmented_images.append(augment_image['image'])\n",
    "        augmented_row = row.copy()\n",
    "        augmented_row['image_id'] = row['image_id'] + '_augmented_' + str(_)\n",
    "        augmented_data.append(augmented_row)\n",
    "    \n",
    "    return augmented_data, augmented_images\n",
    "\n",
    "def augment_images(data, images_array, augmentation_counts, num_workers=4):\n",
    "    # Define augmentations by albumentations library\n",
    "    augmentations = A.Compose([\n",
    "        A.HorizontalFlip(p=0.25),\n",
    "        A.VerticalFlip(p=0.25),\n",
    "        A.Rotate(limit=(90, 90), p=0.25),\n",
    "        A.Rotate(limit=(180, 180), p=0.25),  \n",
    "        A.Rotate(limit=(270, 270), p=0.25),  \n",
    "        A.RandomBrightnessContrast(limit=(0.1,0.1), p=0.25),\n",
    "    ])\n",
    "    \n",
    "    print(f'Number of images: {len(images_array)}, Number of rows in data: {len(data)}')\n",
    "    \n",
    "    augmented_images = []\n",
    "    augmented_data = []\n",
    "    \n",
    "    # Use ThreadPoolExecutor to parallelize the augmentation process\n",
    "    with ThreadPoolExecutor(max_workers=num_workers) as executor:\n",
    "        futures = []\n",
    "        \n",
    "        # Send each row and image to worker function\n",
    "        for index, row in tqdm(data.iterrows(), total=len(data), desc=\"Augmenting Images\"):\n",
    "            futures.append(\n",
    "                executor.submit(augment_image_worker, row, images_array[index], augmentations, augmentation_counts)\n",
    "            )\n",
    "        \n",
    "        # Collect results from futures\n",
    "        for future in tqdm(as_completed(futures), total=len(futures), desc=\"Collecting Results\"):\n",
    "            aug_data, aug_images = future.result()\n",
    "            if aug_data is not None and aug_images is not None:\n",
    "                augmented_data.extend(aug_data)\n",
    "                augmented_images.extend(aug_images)\n",
    "    \n",
    "    # Convert to DataFrame\n",
    "    augmented_data = pd.DataFrame(augmented_data)\n",
    "    \n",
    "    return augmented_data, augmented_images\n"
   ]
  },
  {
   "cell_type": "code",
   "execution_count": 33,
   "metadata": {},
   "outputs": [
    {
     "name": "stderr",
     "output_type": "stream",
     "text": [
      "C:\\Users\\fxlqt\\AppData\\Local\\Temp\\ipykernel_12300\\2671146945.py:34: UserWarning: Argument 'limit' is not valid and will be ignored.\n",
      "  A.RandomBrightnessContrast(limit=(0.1,0.1), p=0.25),\n"
     ]
    },
    {
     "name": "stdout",
     "output_type": "stream",
     "text": [
      "Number of images: 9761, Number of rows in data: 7808\n",
      "Train data shape:  (7808, 11)\n",
      "Augmented data shape:  (71313, 11)\n",
      "Augmented images length:  71313\n"
     ]
    }
   ],
   "source": [
    "augmented_train_data, augmented_train_images = augment_images(train_data, images, augmentation_counts)\n",
    "print('Train data shape: ', train_data.shape)\n",
    "print('Augmented data shape: ', augmented_train_data.shape)\n",
    "print('Augmented images length: ', len(augmented_train_images))"
   ]
  },
  {
   "cell_type": "code",
   "execution_count": 16,
   "metadata": {},
   "outputs": [],
   "source": [
    "def process_batch2(batch_paths):\n",
    "    img_w, img_h = 224, 224\n",
    "    batch_imgs = []\n",
    "\n",
    "    for path in batch_paths:\n",
    "        img = cv2.imread(path)\n",
    "        if img is not None:\n",
    "            img = cv2.resize(img, (img_w, img_h))\n",
    "            batch_imgs.append(img)\n",
    "\n",
    "    return np.array(batch_imgs)\n",
    "\n",
    "def compute_img_mean_std(image_paths, batch_size=32, num_workers=4):\n",
    "    imgs = []\n",
    "    means, stdevs = [], []\n",
    "    batches = [image_paths[i:i + batch_size] for i in range(0, len(image_paths), batch_size)]\n",
    "\n",
    "    st = time.time()\n",
    "    with ThreadPoolExecutor(max_workers=num_workers) as executor:\n",
    "        futures = {executor.submit(process_batch2, batch): batch for batch in batches}\n",
    "        for future in tqdm(as_completed(futures), total=len(futures)):\n",
    "            img_batch = future.result()\n",
    "            if img_batch is not None:\n",
    "                imgs.extend(img_batch)\n",
    "    et = time.time()\n",
    "\n",
    "    print(\"Loaded {images} images\".format(images=len(imgs)), \"in: {time:.2f} seconds.\".format(time=et - st))\n",
    "    imgs = np.stack(imgs, axis=0)\n",
    "    print(f\"Stacked images shape: {imgs.shape}\")\n",
    "    \n",
    "    imgs = imgs.astype(np.float32) / 255.0\n",
    "    for i in range(3):\n",
    "        pixels = imgs[:, :, :, i].ravel()\n",
    "        means.append(np.mean(pixels))\n",
    "        stdevs.append(np.std(pixels))\n",
    "\n",
    "    means.reverse()\n",
    "    stdevs.reverse()\n",
    "\n",
    "    return means, stdevs\n"
   ]
  },
  {
   "cell_type": "code",
   "execution_count": 17,
   "metadata": {},
   "outputs": [
    {
     "name": "stdout",
     "output_type": "stream",
     "text": [
      "Number of images:  9761\n"
     ]
    },
    {
     "name": "stderr",
     "output_type": "stream",
     "text": [
      "100%|██████████| 306/306 [00:05<00:00, 51.49it/s]\n"
     ]
    },
    {
     "name": "stdout",
     "output_type": "stream",
     "text": [
      "Loaded 9761 images in: 5.98 seconds.\n",
      "Stacked images shape: (9761, 224, 224, 3)\n",
      "Normed means:  [np.float32(0.76392394), np.float32(0.54433286), np.float32(0.5681715)]\n",
      "Normed stds:  [np.float32(0.14101331), np.float32(0.15212949), np.float32(0.16933376)]\n"
     ]
    }
   ],
   "source": [
    "# Return the mean and std of the images\n",
    "images_path_list = data['image_id'].tolist()\n",
    "print('Number of images: ', len(images_path_list))\n",
    "norm_means, norm_stdevs = compute_img_mean_std(images_path_list, batch_size=batch_size, num_workers=n_workers)\n",
    "#means, stdevs = compute_img_mean_std(images_path_list)\n",
    "print('Normed means: ', norm_means)\n",
    "print('Normed stds: ', norm_stdevs)"
   ]
  },
  {
   "cell_type": "code",
   "execution_count": 18,
   "metadata": {},
   "outputs": [
    {
     "data": {
      "image/png": "[encoded data removed]",
      "text/plain": [
       "<Figure size 500x400 with 2 Axes>"
      ]
     },
     "metadata": {},
     "output_type": "display_data"
    }
   ],
   "source": [
    "# Correlation matrix checkings\n",
    "# Select columns to check\n",
    "# lesion_id,image_id,dx,dx_type,age,sex,localization\n",
    "columns = ['dx_code', 'dx_type_code','age','sex_code','localization_code']\n",
    "data_corr = data[columns]\n",
    "# Compute the correlation matrix\n",
    "corr = data_corr.corr()\n",
    "# Plot the heatmap\n",
    "plt.figure(figsize=(5, 4))\n",
    "sns.heatmap(corr, annot=True, cmap='coolwarm', fmt=\".2f\")\n",
    "plt.title('Correlation matrix')\n",
    "plt.show()"
   ]
  },
  {
   "cell_type": "code",
   "execution_count": null,
   "metadata": {},
   "outputs": [],
   "source": []
  }
 ],
 "metadata": {
  "kernelspec": {
   "display_name": "Py311",
   "language": "python",
   "name": "python3"
  },
  "language_info": {
   "codemirror_mode": {
    "name": "ipython",
    "version": 3
   },
   "file_extension": ".py",
   "mimetype": "text/x-python",
   "name": "python",
   "nbconvert_exporter": "python",
   "pygments_lexer": "ipython3",
   "version": "3.11.9"
  }
 },
 "nbformat": 4,
 "nbformat_minor": 2
}
