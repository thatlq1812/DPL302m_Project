{
  "cells": [
    {
      "cell_type": "markdown",
      "metadata": {
        "id": "view-in-github",
        "colab_type": "text"
      },
      "source": [
        "<a href=\"https://colab.research.google.com/github/thatlq1812/DPL302m_Project/blob/main/main.ipynb\" target=\"_parent\"><img src=\"https://colab.research.google.com/assets/colab-badge.svg\" alt=\"Open In Colab\"/></a>"
      ]
    },
    {
      "cell_type": "markdown",
      "metadata": {
        "id": "9aPDB_w2It-U"
      },
      "source": [
        "wait for fill"
      ]
    },
    {
      "cell_type": "markdown",
      "metadata": {
        "id": "LVG0QkXoIt-V"
      },
      "source": [
        "> Step 0. Introduction - Importing libraries and loading data\n",
        "\n",
        "> Step 1. Data analysis and preprocessing\n",
        "\n",
        "> Step 2. Model selection\n",
        "\n",
        "> Step 3. Model training\n",
        "\n",
        "> Step 4. Model evaluation\n",
        "\n",
        "> Step 5. Model prediction\n",
        "\n",
        "> Step 6. Model submission\n",
        "\n",
        "> Step 7. Conclusion"
      ]
    },
    {
      "cell_type": "markdown",
      "metadata": {
        "id": "OK_G01AgIt-V"
      },
      "source": [
        "First, import the necessary libraries section."
      ]
    },
    {
      "cell_type": "code",
      "source": [
        "# Goolge Colab library\n",
        "try:\n",
        "    from google.colab import drive\n",
        "    import torch_xla.core.xla_model as xm\n",
        "except:\n",
        "    pass"
      ],
      "metadata": {
        "id": "y2rq_97m9tFo"
      },
      "execution_count": 1,
      "outputs": []
    },
    {
      "cell_type": "code",
      "execution_count": 2,
      "metadata": {
        "id": "aJP8EPTiIt-W",
        "colab": {
          "base_uri": "https://localhost:8080/"
        },
        "outputId": "d60a5ef4-f670-4bc3-9a03-ae5b812216c7"
      },
      "outputs": [
        {
          "output_type": "stream",
          "name": "stderr",
          "text": [
            "/usr/local/lib/python3.10/dist-packages/albumentations/__init__.py:13: UserWarning: A new version of Albumentations is available: 1.4.17 (you have 1.4.15). Upgrade using: pip install -U albumentations. To disable automatic update checks, set the environment variable NO_ALBUMENTATIONS_UPDATE to 1.\n",
            "  check_for_updates()\n"
          ]
        }
      ],
      "source": [
        "# Python library\n",
        "import os\n",
        "import zipfile\n",
        "import sys\n",
        "import time\n",
        "import pandas as pd\n",
        "import numpy as np\n",
        "import matplotlib.pyplot as plt\n",
        "import seaborn as sns\n",
        "import multiprocessing\n",
        "import pickle as pkl\n",
        "import yaml\n",
        "import albumentations as A\n",
        "\n",
        "from glob import glob\n",
        "from tqdm import tqdm\n",
        "from PIL import Image\n",
        "from concurrent.futures import ThreadPoolExecutor, as_completed\n",
        "\n",
        "# Sklearn library\n",
        "from sklearn.metrics import confusion_matrix\n",
        "from sklearn.model_selection import train_test_split\n",
        "from sklearn.metrics import classification_report\n",
        "from sklearn.preprocessing import LabelEncoder\n",
        "\n",
        "# Pytorch library\n",
        "import torch\n",
        "from torch import optim, nn\n",
        "from torch.autograd import Variable\n",
        "from torch.utils.data import DataLoader,Dataset\n",
        "from torchvision import models,transforms\n",
        "\n",
        "# CV2 library\n",
        "import cv2\n",
        "\n",
        "# Goolge Colab library\n",
        "try:\n",
        "    import torch_xla.core.xla_model as xm\n",
        "    from google.colab import drive\n",
        "\n",
        "except:\n",
        "    pass"
      ]
    },
    {
      "cell_type": "code",
      "execution_count": 3,
      "metadata": {
        "colab": {
          "base_uri": "https://localhost:8080/"
        },
        "id": "MUleo0yj9G6R",
        "outputId": "789d960c-8337-4357-bbab-62e0ced0a526"
      },
      "outputs": [
        {
          "output_type": "stream",
          "name": "stdout",
          "text": [
            "Drive already mounted at /content/drive; to attempt to forcibly remount, call drive.mount(\"/content/drive\", force_remount=True).\n"
          ]
        }
      ],
      "source": [
        "try:\n",
        "    drive.mount('/content/drive')\n",
        "    if not os.path.exists(\"/content/data\"):\n",
        "        !cp \"/content/drive/My Drive/Colab Notebooks/data.zip\" \"/content/\"\n",
        "        with zipfile.ZipFile(\"data.zip\", 'r') as zip_ref:\n",
        "            zip_ref.extractall(\"/content/\")\n",
        "except:\n",
        "    pass"
      ]
    },
    {
      "cell_type": "code",
      "execution_count": 4,
      "metadata": {
        "colab": {
          "base_uri": "https://localhost:8080/"
        },
        "id": "RnP11fOXIt-W",
        "outputId": "bccaf6ba-05af-475b-cf08-1c0bfc23db9f"
      },
      "outputs": [
        {
          "output_type": "stream",
          "name": "stdout",
          "text": [
            "Project name:  Cancer Detection\n",
            "Project version:  DPL302m Project - Fall 2024 of Group 1\n",
            "Project author:  Group 1\n",
            "Project version:  1.0.0\n",
            "Data path:  {'data_path': 'data/', 'csv_path': 'data/HAM10000_metadata.csv', 'images_path': 'data/images/'}\n",
            "N workers:  2\n",
            "Batch size:  32\n",
            "Preprocessing configuration\n",
            "Augmentation ratios:  1\n",
            "Resize shape:  (64, 64)\n"
          ]
        }
      ],
      "source": [
        "# Load configuration\n",
        "with open('config.yaml') as f:\n",
        "    config = yaml.load(f, Loader=yaml.FullLoader)\n",
        "\n",
        "# Project information\n",
        "print('Project name: ', config['project']['name'])\n",
        "print('Project version: ', config['project']['description'])\n",
        "print('Project author: ', config['project']['author'])\n",
        "print('Project version: ', config['project']['version'])\n",
        "\n",
        "# Data location\n",
        "print('Data path: ', config['data'])\n",
        "data_path = config['data']['data_path']\n",
        "csv_path = config['data']['csv_path']\n",
        "images_path = config['data']['images_path']\n",
        "\n",
        "# Training configuration\n",
        "n_workers = multiprocessing.cpu_count()\n",
        "batch_size = config['training']['batch_size']\n",
        "print('N workers: ', n_workers)\n",
        "print('Batch size: ', batch_size)\n",
        "\n",
        "# Preprocessing configuration\n",
        "print('Preprocessing configuration')\n",
        "augmentation_ratio = config['preprocessing']['augmentation']['ratio']\n",
        "resize_shape = tuple(config['preprocessing']['resize'])\n",
        "print('Augmentation ratios: ', augmentation_ratio)\n",
        "print('Resize shape: ', resize_shape)\n",
        "\n",
        "# Create a dictionary for images location\n",
        "lesion_type_dict = {\n",
        "    'nv': 'Melanocytic nevi',\n",
        "    'mel': 'dermatofibroma',\n",
        "    'bkl': 'Benign keratosis-like lesions ',\n",
        "    'bcc': 'Basal cell carcinoma',\n",
        "    'akiec': 'Actinic keratoses',\n",
        "    'vasc': 'Vascular lesions',\n",
        "    'df': 'Dermatofibroma'\n",
        "}"
      ]
    },
    {
      "cell_type": "code",
      "execution_count": 5,
      "metadata": {
        "id": "lwNyHy6RIt-X"
      },
      "outputs": [],
      "source": [
        "# Data reading\n",
        "data = pd.read_csv(csv_path)"
      ]
    },
    {
      "cell_type": "code",
      "execution_count": 6,
      "metadata": {
        "id": "fB6lO8XeIt-X"
      },
      "outputs": [],
      "source": [
        "def data_check(data):\n",
        "    # Show data types\n",
        "    print('Data types:')\n",
        "    print(data.dtypes)\n",
        "    print()\n",
        "\n",
        "    # Show unique values for each column (skip image_id and lesion_id)\n",
        "    print('Unique values for each column:')\n",
        "    for col in data.columns:\n",
        "        if col in ['image_id', 'lesion_id']:\n",
        "            continue\n",
        "        print(f\"{col}: {data[col].unique()[:5]}...\")\n",
        "    print()\n",
        "\n",
        "    # Count NaN values\n",
        "    print('NaN values in each column:')\n",
        "    nan_counts = data.isnull().sum()\n",
        "    print(nan_counts[nan_counts > 0])\n",
        "    print()\n",
        "\n",
        "    # Count 'unknown' values (only for object columns)\n",
        "    print('Unknown values in each column:')\n",
        "    for col in data.select_dtypes(include=['object']).columns:\n",
        "        unknown_count = data[data[col] == 'unknown'].shape[0]\n",
        "        if unknown_count > 0:\n",
        "            print(f\"{col}: {unknown_count}\")\n",
        "    print()\n",
        "\n",
        "    # Summary\n",
        "    print(\"Summary of potential data issues:\")\n",
        "    print(f\"- Columns with NaN values: {nan_counts[nan_counts > 0].index.tolist()}\")\n",
        "    print(f\"- Columns with 'unknown' values: {[col for col in data.columns if 'unknown' in data[col].values]}\")\n",
        "\n"
      ]
    },
    {
      "cell_type": "code",
      "execution_count": 7,
      "metadata": {
        "colab": {
          "base_uri": "https://localhost:8080/"
        },
        "id": "Vo3T1ozRIt-X",
        "outputId": "20627c04-02f1-4882-a155-a7839f0a0e28"
      },
      "outputs": [
        {
          "output_type": "stream",
          "name": "stdout",
          "text": [
            "Data types:\n",
            "lesion_id        object\n",
            "image_id         object\n",
            "dx               object\n",
            "dx_type          object\n",
            "age             float64\n",
            "sex              object\n",
            "localization     object\n",
            "dtype: object\n",
            "\n",
            "Unique values for each column:\n",
            "dx: ['bkl' 'nv' 'df' 'mel' 'vasc']...\n",
            "dx_type: ['histo' 'consensus' 'confocal' 'follow_up']...\n",
            "age: [80. 75. 60. 70. 55.]...\n",
            "sex: ['male' 'female' 'unknown']...\n",
            "localization: ['scalp' 'ear' 'face' 'back' 'trunk']...\n",
            "\n",
            "NaN values in each column:\n",
            "age    57\n",
            "dtype: int64\n",
            "\n",
            "Unknown values in each column:\n",
            "sex: 57\n",
            "localization: 234\n",
            "\n",
            "Summary of potential data issues:\n",
            "- Columns with NaN values: ['age']\n",
            "- Columns with 'unknown' values: ['sex', 'localization']\n"
          ]
        }
      ],
      "source": [
        "data_check(data)"
      ]
    },
    {
      "cell_type": "code",
      "execution_count": 8,
      "metadata": {
        "id": "41QqtJJqIt-X"
      },
      "outputs": [],
      "source": [
        "def data_cleaning(data):\n",
        "    # Drop duplicates defined by 'image_id' and 'lesion_id'\n",
        "    data = data.drop_duplicates(subset=['image_id'])\n",
        "\n",
        "    # Drop values with NaN\n",
        "    data = data.dropna(subset=['age', 'sex', 'localization'])\n",
        "    data = data[data['age'] != 'unknown']\n",
        "    data = data[data['sex'] != 'unknown']\n",
        "    data = data[data['localization'] != 'unknown']\n",
        "\n",
        "    # Convert 'age' to int\n",
        "    try:\n",
        "        data['age'] = data['age'].astype(int)\n",
        "    except ValueError:\n",
        "        print(\"Some 'age' values could not be converted to int.\")\n",
        "\n",
        "    # Create label encoders for each categorical column\n",
        "    label_encoder_dx = LabelEncoder()\n",
        "    label_encoder_dx_type = LabelEncoder()\n",
        "    label_encoder_sex = LabelEncoder()\n",
        "    label_encoder_localization = LabelEncoder()\n",
        "\n",
        "    # Encode labels\n",
        "    data['dx_code'] = label_encoder_dx.fit_transform(data['dx'])\n",
        "    data['dx_type_code'] = label_encoder_dx_type.fit_transform(data['dx_type'])\n",
        "    data['sex_code'] = label_encoder_sex.fit_transform(data['sex'])\n",
        "    data['localization_code'] = label_encoder_localization.fit_transform(data['localization'])\n",
        "\n",
        "    # Add location of images\n",
        "    data['image_id'] = data['image_id'].apply(lambda x: os.path.join(images_path, x + '.jpg'))\n",
        "\n",
        "    print('Data after cleaning:')\n",
        "    print(data.head())\n",
        "\n",
        "    data = data.reset_index(drop=True)\n",
        "\n",
        "    return data"
      ]
    },
    {
      "cell_type": "code",
      "execution_count": 9,
      "metadata": {
        "colab": {
          "base_uri": "https://localhost:8080/"
        },
        "id": "aoMKvVjRIt-Y",
        "outputId": "6c944edc-5688-4947-ed27-f986edba31b8"
      },
      "outputs": [
        {
          "output_type": "stream",
          "name": "stdout",
          "text": [
            "Data after cleaning:\n",
            "     lesion_id                      image_id   dx dx_type  age   sex  \\\n",
            "0  HAM_0000118  data/images/ISIC_0027419.jpg  bkl   histo   80  male   \n",
            "1  HAM_0000118  data/images/ISIC_0025030.jpg  bkl   histo   80  male   \n",
            "2  HAM_0002730  data/images/ISIC_0026769.jpg  bkl   histo   80  male   \n",
            "3  HAM_0002730  data/images/ISIC_0025661.jpg  bkl   histo   80  male   \n",
            "4  HAM_0001466  data/images/ISIC_0031633.jpg  bkl   histo   75  male   \n",
            "\n",
            "  localization  dx_code  dx_type_code  sex_code  localization_code  \n",
            "0        scalp        2             3         1                 11  \n",
            "1        scalp        2             3         1                 11  \n",
            "2        scalp        2             3         1                 11  \n",
            "3        scalp        2             3         1                 11  \n",
            "4          ear        2             3         1                  4  \n",
            "Data types:\n",
            "lesion_id            object\n",
            "image_id             object\n",
            "dx                   object\n",
            "dx_type              object\n",
            "age                   int64\n",
            "sex                  object\n",
            "localization         object\n",
            "dx_code               int64\n",
            "dx_type_code          int64\n",
            "sex_code              int64\n",
            "localization_code     int64\n",
            "dtype: object\n",
            "\n",
            "Unique values for each column:\n",
            "dx: ['bkl' 'nv' 'df' 'mel' 'vasc']...\n",
            "dx_type: ['histo' 'consensus' 'confocal' 'follow_up']...\n",
            "age: [80 75 60 70 55]...\n",
            "sex: ['male' 'female']...\n",
            "localization: ['scalp' 'ear' 'face' 'back' 'trunk']...\n",
            "dx_code: [2 5 3 4 6]...\n",
            "dx_type_code: [3 1 0 2]...\n",
            "sex_code: [1 0]...\n",
            "localization_code: [11  4  5  2 12]...\n",
            "\n",
            "NaN values in each column:\n",
            "Series([], dtype: int64)\n",
            "\n",
            "Unknown values in each column:\n",
            "\n",
            "Summary of potential data issues:\n",
            "- Columns with NaN values: []\n",
            "- Columns with 'unknown' values: []\n"
          ]
        }
      ],
      "source": [
        "data = data_cleaning(data)\n",
        "data_check(data)"
      ]
    },
    {
      "cell_type": "code",
      "execution_count": 10,
      "metadata": {
        "id": "0LQUopF6It-Y"
      },
      "outputs": [],
      "source": [
        "def split_data(data, test_size=0.2, random_state=42):\n",
        "    # Split data into training and testing sets\n",
        "    train_data, test_data = train_test_split(data, test_size=test_size, random_state=random_state)\n",
        "    print(\"Train data shape:\", train_data.shape)\n",
        "    print(\"Test data shape:\", test_data.shape)\n",
        "\n",
        "    return train_data, test_data"
      ]
    },
    {
      "cell_type": "code",
      "execution_count": 11,
      "metadata": {
        "colab": {
          "base_uri": "https://localhost:8080/"
        },
        "id": "W8_HM7_NIt-Y",
        "outputId": "c32bca0f-82f5-48cc-9349-b1167a65eaec"
      },
      "outputs": [
        {
          "output_type": "stream",
          "name": "stdout",
          "text": [
            "Train data shape: (7808, 11)\n",
            "Test data shape: (1953, 11)\n"
          ]
        }
      ],
      "source": [
        "train_data, test_data = split_data(data, config['training']['test_size'], config['training']['random_state'])"
      ]
    },
    {
      "cell_type": "code",
      "execution_count": 12,
      "metadata": {
        "id": "mqPeFLqkIt-Y"
      },
      "outputs": [],
      "source": [
        "def load_images_worker(batch):\n",
        "    images = []\n",
        "    for index, row in batch.iterrows():\n",
        "        image_path = row['image_id']\n",
        "        image = cv2.imread(image_path)\n",
        "        if image is None:\n",
        "            print('Image not found: ', image_path)\n",
        "            continue\n",
        "        # Preprocess image\n",
        "        image = cv2.resize(image, resize_shape)\n",
        "        image = cv2.cvtColor(image, cv2.COLOR_BGR2RGB)\n",
        "        images.append(image)\n",
        "    return images\n",
        "\n",
        "def load_images(data, batch_size, num_workers):\n",
        "    all_images = []\n",
        "    batches = [data[i:i + batch_size] for i in range(0, len(data), batch_size)]\n",
        "    st = time.time()\n",
        "    with ThreadPoolExecutor(max_workers=num_workers) as executor:\n",
        "        futures = {executor.submit(load_images_worker, batch): batch for batch in batches}\n",
        "\n",
        "        for future in tqdm(as_completed(futures), total=len(futures)):\n",
        "            img_batch = future.result()\n",
        "            if img_batch is not None:\n",
        "                all_images.extend(img_batch)\n",
        "    et = time.time()\n",
        "    print('Loaded {} images in {} seconds'.format(len(all_images), et - st))\n",
        "    return all_images"
      ]
    },
    {
      "cell_type": "code",
      "execution_count": 13,
      "metadata": {
        "colab": {
          "base_uri": "https://localhost:8080/"
        },
        "id": "Dlw57-7vIt-Y",
        "outputId": "2c2c3b3f-9d51-428a-daaa-674eaee73e36"
      },
      "outputs": [
        {
          "output_type": "stream",
          "name": "stderr",
          "text": [
            "100%|██████████| 306/306 [01:16<00:00,  4.02it/s]\n"
          ]
        },
        {
          "output_type": "stream",
          "name": "stdout",
          "text": [
            "Loaded 9761 images in 76.171865940094 seconds\n"
          ]
        },
        {
          "output_type": "stream",
          "name": "stderr",
          "text": [
            "100%|██████████| 244/244 [00:37<00:00,  6.54it/s]\n"
          ]
        },
        {
          "output_type": "stream",
          "name": "stdout",
          "text": [
            "Loaded 7808 images in 37.31960368156433 seconds\n"
          ]
        },
        {
          "output_type": "stream",
          "name": "stderr",
          "text": [
            "100%|██████████| 62/62 [00:11<00:00,  5.27it/s]"
          ]
        },
        {
          "output_type": "stream",
          "name": "stdout",
          "text": [
            "Loaded 1953 images in 11.772032976150513 seconds\n"
          ]
        },
        {
          "output_type": "stream",
          "name": "stderr",
          "text": [
            "\n"
          ]
        }
      ],
      "source": [
        "# Load train images\n",
        "images = load_images(data, batch_size=batch_size, num_workers=n_workers)\n",
        "train_images = load_images(train_data, batch_size=batch_size, num_workers=n_workers)\n",
        "test_images = load_images(test_data, batch_size=batch_size, num_workers=n_workers)"
      ]
    },
    {
      "cell_type": "code",
      "execution_count": 14,
      "metadata": {
        "id": "SM35KnpZIt-Y"
      },
      "outputs": [],
      "source": [
        "def type_count(data, rate):\n",
        "    lesion_type = data.groupby(data['dx']).count()\n",
        "    lesion_type = lesion_type.reset_index()\n",
        "    lesion_type = lesion_type[['dx', 'image_id']]\n",
        "    lesion_type.columns = ['dx', 'count']\n",
        "    lesion_type = lesion_type.sort_values(by='count', ascending=False)\n",
        "    print(lesion_type)\n",
        "    max_count = lesion_type['count'].max()\n",
        "    augmentation_counts = {}\n",
        "    for index, row in lesion_type.iterrows():\n",
        "        augmentation_counts[row['dx']] = int(max_count / row['count'] * rate)\n",
        "    return augmentation_counts"
      ]
    },
    {
      "cell_type": "code",
      "execution_count": 15,
      "metadata": {
        "colab": {
          "base_uri": "https://localhost:8080/"
        },
        "id": "1IZfar_pIt-Z",
        "outputId": "7b688339-c783-44e4-d2b0-c1b53fee6b63"
      },
      "outputs": [
        {
          "output_type": "stream",
          "name": "stdout",
          "text": [
            "      dx  count\n",
            "5     nv   5205\n",
            "4    mel    876\n",
            "2    bkl    849\n",
            "1    bcc    404\n",
            "0  akiec    265\n",
            "6   vasc    120\n",
            "3     df     89\n",
            "Augmentation Ratios: {'nv': 1, 'mel': 5, 'bkl': 6, 'bcc': 12, 'akiec': 19, 'vasc': 43, 'df': 58}\n",
            "      dx  count\n",
            "5     nv   1286\n",
            "2    bkl    227\n",
            "4    mel    225\n",
            "1    bcc    105\n",
            "0  akiec     62\n",
            "3     df     26\n",
            "6   vasc     22\n"
          ]
        }
      ],
      "source": [
        "augmentation_counts = type_count(train_data, config['preprocessing']['augmentation']['ratio'])\n",
        "print(\"Augmentation Ratios:\", augmentation_counts)\n",
        "_ = type_count(test_data, 0)"
      ]
    },
    {
      "cell_type": "code",
      "execution_count": 16,
      "metadata": {
        "id": "3ZtYpTB5It-Z"
      },
      "outputs": [],
      "source": [
        "run_augmentation = True\n",
        "\n",
        "def augment_image_worker(row, image, augmentations, augmentation_counts):\n",
        "    augmented_images = []\n",
        "    augmented_data = []\n",
        "\n",
        "    lesion_type = row['dx']\n",
        "    count = augmentation_counts.get(lesion_type, 0)\n",
        "    if count == 0:\n",
        "        return None, None\n",
        "\n",
        "    for _ in range(count):\n",
        "        if _ == 0:\n",
        "            augmented_images.append(image)\n",
        "            augmented_row = row.copy()\n",
        "            augmented_row['image_id'] = row['image_id'] + '_original'\n",
        "            augmented_data.append(augmented_row)\n",
        "            continue\n",
        "\n",
        "        augment_image = augmentations(image=image)\n",
        "        augmented_images.append(augment_image['image'])\n",
        "        augmented_row = row.copy()\n",
        "        augmented_row['image_id'] = row['image_id'] + '_augmented_' + str(_)\n",
        "        augmented_data.append(augmented_row)\n",
        "\n",
        "    return augmented_data, augmented_images\n",
        "\n",
        "def augment_images(data, images_array, augmentation_counts, num_workers=n_workers):\n",
        "    augmentations = A.Compose([\n",
        "        A.HorizontalFlip(p=0.25),\n",
        "        A.VerticalFlip(p=0.25),\n",
        "        A.Rotate(limit=(0, 180), p=0.25),\n",
        "        A.RandomBrightnessContrast(brightness_limit=0.2, contrast_limit=0.2, p=0.5),\n",
        "    ])\n",
        "\n",
        "    print(f'Number of images: {len(images_array)}, Number of rows in data: {len(data)}')\n",
        "\n",
        "    augmented_images = []\n",
        "    augmented_data = []\n",
        "\n",
        "    with ThreadPoolExecutor(max_workers=num_workers) as executor:\n",
        "        futures = []\n",
        "\n",
        "        for index, row in tqdm(data.iterrows(), total=len(data), desc=\"Augmenting Images\"):\n",
        "            futures.append(\n",
        "                executor.submit(augment_image_worker, row, images_array[index], augmentations, augmentation_counts)\n",
        "            )\n",
        "\n",
        "        for future in tqdm(as_completed(futures), total=len(futures), desc=\"Collecting Results\"):\n",
        "            aug_data, aug_images = future.result()\n",
        "            if aug_data is not None and aug_images is not None:\n",
        "                augmented_data.extend(aug_data)\n",
        "                augmented_images.extend(aug_images)\n",
        "\n",
        "    augmented_data = pd.DataFrame(augmented_data)\n",
        "\n",
        "    return augmented_data, augmented_images\n"
      ]
    },
    {
      "cell_type": "code",
      "execution_count": 17,
      "metadata": {
        "colab": {
          "base_uri": "https://localhost:8080/"
        },
        "id": "Fky5S3QsIt-Z",
        "outputId": "68cd174d-1994-41a8-dc4f-63c4da5fbb10"
      },
      "outputs": [
        {
          "output_type": "stream",
          "name": "stdout",
          "text": [
            "Number of images: 9761, Number of rows in data: 7808\n"
          ]
        },
        {
          "output_type": "stream",
          "name": "stderr",
          "text": [
            "Augmenting Images: 100%|██████████| 7808/7808 [00:00<00:00, 7900.40it/s]\n",
            "Collecting Results: 100%|██████████| 7808/7808 [00:08<00:00, 960.87it/s] \n"
          ]
        },
        {
          "output_type": "stream",
          "name": "stdout",
          "text": [
            "Train data shape:  (7808, 11)\n",
            "Augmented data shape:  (34884, 11)\n",
            "Augmented images length:  34884\n"
          ]
        }
      ],
      "source": [
        "if run_augmentation:\n",
        "    augmented_train_data, augmented_train_images = augment_images(train_data, images, augmentation_counts)\n",
        "else:\n",
        "    augmented_train_data, augmented_train_images = train_data.copy(), images.copy()\n",
        "\n",
        "print('Train data shape: ', train_data.shape)\n",
        "print('Augmented data shape: ', augmented_train_data.shape)\n",
        "print('Augmented images length: ', len(augmented_train_images))"
      ]
    },
    {
      "cell_type": "code",
      "execution_count": 18,
      "metadata": {
        "colab": {
          "base_uri": "https://localhost:8080/"
        },
        "id": "KCuvDLf99G6V",
        "outputId": "e49d7b9e-c288-4afc-b407-08436a1c4ae4"
      },
      "outputs": [
        {
          "output_type": "stream",
          "name": "stdout",
          "text": [
            "      dx  count\n",
            "5     nv   5205\n",
            "3     df   5162\n",
            "6   vasc   5160\n",
            "2    bkl   5094\n",
            "0  akiec   5035\n",
            "1    bcc   4848\n",
            "4    mel   4380\n"
          ]
        }
      ],
      "source": [
        "_ = type_count(augmented_train_data, 0)"
      ]
    },
    {
      "cell_type": "code",
      "execution_count": 19,
      "metadata": {
        "id": "sj3UOIcPIt-Z"
      },
      "outputs": [],
      "source": [
        "def compute_img_mean_std_worker(batch_images):\n",
        "    img_w, img_h = resize_shape\n",
        "    batch_imgs = []\n",
        "\n",
        "    for image in batch_images:\n",
        "        img = cv2.resize(image, (img_w, img_h))\n",
        "        batch_imgs.append(img)\n",
        "\n",
        "    return np.array(batch_imgs)\n",
        "\n",
        "def compute_img_mean_std(augmented_images, batch_size=32, num_workers=n_workers):\n",
        "    means = np.zeros(3)\n",
        "    stdevs = np.zeros(3)\n",
        "    total_count = 0\n",
        "\n",
        "    # Split images into batches\n",
        "    batches = [augmented_images[i:i + batch_size] for i in range(0, len(augmented_images), batch_size)]\n",
        "\n",
        "    with ThreadPoolExecutor(max_workers=num_workers) as executor:\n",
        "        futures = {executor.submit(compute_img_mean_std_worker, batch): batch for batch in batches}\n",
        "        for future in tqdm(as_completed(futures), total=len(futures), desc=\"Processing Batches\"):\n",
        "            img_batch = future.result()\n",
        "            if img_batch is not None:\n",
        "                img_batch = img_batch.astype(np.float32) / 255.0  # Normalize\n",
        "\n",
        "                # Compute mean and std for each channel in the batch\n",
        "                for i in range(3):  # RGB channels\n",
        "                    means[i] += img_batch[:, :, :, i].mean() * img_batch.shape[0]\n",
        "                    stdevs[i] += (img_batch[:, :, :, i] ** 2).mean() * img_batch.shape[0]\n",
        "\n",
        "                total_count += img_batch.shape[0]  # Update total count\n",
        "\n",
        "    # Compute means and stds\n",
        "    means /= total_count\n",
        "    stdevs = np.sqrt(stdevs / total_count - means ** 2)\n",
        "\n",
        "    return means, stdevs"
      ]
    },
    {
      "cell_type": "code",
      "execution_count": 20,
      "metadata": {
        "colab": {
          "base_uri": "https://localhost:8080/"
        },
        "id": "J1OFEahiIt-Z",
        "outputId": "2cf9975f-6164-40d2-8895-3168bf0a855f"
      },
      "outputs": [
        {
          "output_type": "stream",
          "name": "stdout",
          "text": [
            "Number of images:  34884\n"
          ]
        },
        {
          "output_type": "stream",
          "name": "stderr",
          "text": [
            "Processing Batches: 100%|██████████| 1091/1091 [00:01<00:00, 704.59it/s]\n"
          ]
        },
        {
          "output_type": "stream",
          "name": "stdout",
          "text": [
            "Normed means:  [0.75112905 0.5718805  0.60222207]\n",
            "Normed stds:  [0.15315418 0.16563931 0.17785515]\n"
          ]
        }
      ],
      "source": [
        "# Return the mean and std of the images\n",
        "print('Number of images: ', len(augmented_train_images))\n",
        "norm_mean, norm_std = compute_img_mean_std(augmented_train_images, batch_size=batch_size, num_workers=n_workers)\n",
        "print('Normed means: ', norm_mean)\n",
        "print('Normed stds: ', norm_std)"
      ]
    },
    {
      "cell_type": "code",
      "execution_count": 21,
      "metadata": {
        "id": "3S4Ya9wtIt-a"
      },
      "outputs": [],
      "source": [
        "train_data_droped = augmented_train_data.drop(columns=['lesion_id', 'image_id', 'dx', 'dx_type','sex','localization'])\n",
        "train_data.head()\n",
        "train_data_droped.head()\n",
        "train_data_droped = train_data_droped.astype('float32')\n",
        "train_data_droped.reset_index(drop=True, inplace=True)"
      ]
    },
    {
      "cell_type": "code",
      "execution_count": 22,
      "metadata": {
        "colab": {
          "base_uri": "https://localhost:8080/",
          "height": 496
        },
        "id": "6FEJPwbZIt-a",
        "outputId": "7336b1cf-7812-4bb0-e1da-d923118e63dc"
      },
      "outputs": [
        {
          "output_type": "display_data",
          "data": {
            "text/plain": [
              "<Figure size 500x400 with 2 Axes>"
            ],
            "image/png": "[encoded data removed]"
          },
          "metadata": {}
        }
      ],
      "source": [
        "corr = train_data_droped.corr()\n",
        "plt.figure(figsize=(5, 4))\n",
        "sns.heatmap(corr, annot=True, cmap='coolwarm', fmt=\".2f\")\n",
        "plt.title('Correlation matrix')\n",
        "plt.show()"
      ]
    },
    {
      "cell_type": "code",
      "execution_count": 23,
      "metadata": {
        "id": "tALqWwDAIt-a"
      },
      "outputs": [],
      "source": [
        "# feature_extract is a boolean that defines if we are finetuning or feature extracting.\n",
        "# If feature_extract = False, the model is finetuned and all model parameters are updated.\n",
        "# If feature_extract = True, only the last layer parameters are updated, the others remain fixed.\n",
        "def set_parameter_requires_grad(model, feature_extracting):\n",
        "    if feature_extracting:\n",
        "        for param in model.parameters():\n",
        "            param.requires_grad = False"
      ]
    },
    {
      "cell_type": "code",
      "execution_count": 24,
      "metadata": {
        "id": "6--URsO0It-a"
      },
      "outputs": [],
      "source": [
        "def initialize_model(model_name, num_classes, feature_extract, use_pretrained=True):\n",
        "    # Initialize these variables which will be set in this if statement. Each of these\n",
        "    # Variables is model specific.\n",
        "    model_ft = None\n",
        "    input_size = 0\n",
        "\n",
        "    if model_name == \"resnet\":\n",
        "        \"\"\" Resnet18, resnet34, resnet50, resnet101\n",
        "        \"\"\"\n",
        "        model_ft = models.resnet50(pretrained=use_pretrained)\n",
        "        set_parameter_requires_grad(model_ft, feature_extract)\n",
        "        num_ftrs = model_ft.fc.in_features\n",
        "        model_ft.fc = nn.Linear(num_ftrs, num_classes)\n",
        "        input_size = resize_shape[0]\n",
        "\n",
        "\n",
        "    elif model_name == \"vgg\":\n",
        "        \"\"\" VGG11_bn\n",
        "        \"\"\"\n",
        "        model_ft = models.vgg11_bn(pretrained=use_pretrained)\n",
        "        set_parameter_requires_grad(model_ft, feature_extract)\n",
        "        num_ftrs = model_ft.classifier[6].in_features\n",
        "        model_ft.classifier[6] = nn.Linear(num_ftrs,num_classes)\n",
        "        input_size = resize_shape[0]\n",
        "\n",
        "\n",
        "    elif model_name == \"densenet\":\n",
        "        \"\"\" Densenet121\n",
        "        \"\"\"\n",
        "        model_ft = models.densenet121(pretrained=use_pretrained)\n",
        "        set_parameter_requires_grad(model_ft, feature_extract)\n",
        "        num_ftrs = model_ft.classifier.in_features\n",
        "        model_ft.classifier = nn.Linear(num_ftrs, num_classes)\n",
        "        input_size = resize_shape[0]\n",
        "\n",
        "\n",
        "    elif model_name == \"inception\":\n",
        "        \"\"\" Inception v3\n",
        "        Be careful, expects (299,299) sized images and has auxiliary output\n",
        "        \"\"\"\n",
        "        model_ft = models.inception_v3(pretrained=use_pretrained)\n",
        "        set_parameter_requires_grad(model_ft, feature_extract)\n",
        "        # Handle the auxilary net\n",
        "        num_ftrs = model_ft.AuxLogits.fc.in_features\n",
        "        model_ft.AuxLogits.fc = nn.Linear(num_ftrs, num_classes)\n",
        "        # Handle the primary net\n",
        "        num_ftrs = model_ft.fc.in_features\n",
        "        model_ft.fc = nn.Linear(num_ftrs,num_classes)\n",
        "        input_size = 299\n",
        "\n",
        "    else:\n",
        "        print(\"Invalid model name, exiting...\")\n",
        "        exit()\n",
        "    return model_ft, input_size"
      ]
    },
    {
      "cell_type": "code",
      "execution_count": 25,
      "metadata": {
        "colab": {
          "base_uri": "https://localhost:8080/"
        },
        "id": "e7p87QegIt-a",
        "outputId": "15d14e32-b0fe-46e3-8f44-c068bc5c9313"
      },
      "outputs": [
        {
          "output_type": "stream",
          "name": "stderr",
          "text": [
            "/usr/local/lib/python3.10/dist-packages/torchvision/models/_utils.py:208: UserWarning: The parameter 'pretrained' is deprecated since 0.13 and may be removed in the future, please use 'weights' instead.\n",
            "  warnings.warn(\n",
            "/usr/local/lib/python3.10/dist-packages/torchvision/models/_utils.py:223: UserWarning: Arguments other than a weight enum or `None` for 'weights' are deprecated since 0.13 and may be removed in the future. The current behavior is equivalent to passing `weights=DenseNet121_Weights.IMAGENET1K_V1`. You can also use `weights=DenseNet121_Weights.DEFAULT` to get the most up-to-date weights.\n",
            "  warnings.warn(msg)\n"
          ]
        },
        {
          "output_type": "stream",
          "name": "stdout",
          "text": [
            "cuda\n"
          ]
        }
      ],
      "source": [
        "# resnet,vgg,densenet,inception\n",
        "model_name = 'densenet'\n",
        "num_classes = 7\n",
        "feature_extract = False\n",
        "# Initialize the model for this run\n",
        "model_ft, input_size = initialize_model(model_name, num_classes, feature_extract, use_pretrained=True)\n",
        "# Define the device:\n",
        "try:\n",
        "    device = xm.xla_device()\n",
        "except:\n",
        "    device = torch.device(\"cuda\" if torch.cuda.is_available() else \"cpu\")\n",
        "print(device)\n",
        "# Put the model on the device:\n",
        "model = model_ft.to(device)"
      ]
    },
    {
      "cell_type": "code",
      "execution_count": 26,
      "metadata": {
        "id": "SPF0Yw89It-a"
      },
      "outputs": [],
      "source": [
        "# define the transformation\n",
        "transform = transforms.Compose([transforms.ToTensor(), transforms.Normalize(norm_mean, norm_std)])"
      ]
    },
    {
      "cell_type": "code",
      "execution_count": 27,
      "metadata": {
        "id": "KoaW4bu-It-a"
      },
      "outputs": [],
      "source": [
        "# \tage\tdx_code\tdx_type_code\tsex_code\tlocalization_code\n",
        "\n",
        "class HAM10000(Dataset):\n",
        "    def __init__(self, df, images_array, transform=None):\n",
        "        self.df = df.reset_index(drop=True)\n",
        "        self.images_array = images_array  # Mảng chứa các ảnh\n",
        "        self.transform = transform\n",
        "\n",
        "    def __len__(self):\n",
        "        return len(self.df)\n",
        "\n",
        "    def __getitem__(self, index):\n",
        "        # Lấy ảnh từ mảng và nhãn từ DataFrame\n",
        "        X = self.images_array[index]\n",
        "        y = torch.tensor(int(self.df['dx_code'][index]))\n",
        "\n",
        "        if self.transform:\n",
        "            X = self.transform(X)\n",
        "\n",
        "        # Có thể trả về thêm thông tin khác nếu cần\n",
        "        additional_info = {\n",
        "            'age': torch.tensor(int(self.df['age'][index])),\n",
        "            'dx_type': torch.tensor(int(self.df['dx_type_code'][index])),\n",
        "            'sex_code': torch.tensor(int(self.df['sex_code'][index])),\n",
        "            'localization': torch.tensor(int(self.df['localization_code'][index]))\n",
        "        }\n",
        "\n",
        "        return X, y, additional_info\n"
      ]
    },
    {
      "cell_type": "code",
      "execution_count": 28,
      "metadata": {
        "id": "M9f26tb4It-b"
      },
      "outputs": [],
      "source": [
        "# Define the training set using the table train_df and using our defined transitions (train_transform)\n",
        "training_set = HAM10000(train_data_droped,augmented_train_images,transform=transform)\n",
        "train_loader = DataLoader(training_set, batch_size=batch_size, shuffle=True, num_workers=n_workers)\n",
        "# Same for the validation set:\n",
        "validation_set = HAM10000(test_data,test_images, transform=transform)\n",
        "val_loader = DataLoader(validation_set, batch_size=batch_size, shuffle=False, num_workers=n_workers)"
      ]
    },
    {
      "cell_type": "code",
      "execution_count": 29,
      "metadata": {
        "id": "jNHEdVYdIt-b"
      },
      "outputs": [],
      "source": [
        "# we use Adam optimizer, use cross entropy loss as our loss function\n",
        "optimizer = optim.Adam(model.parameters(), lr=1e-3)\n",
        "criterion = nn.CrossEntropyLoss().to(device)"
      ]
    },
    {
      "cell_type": "markdown",
      "metadata": {
        "id": "f6foqWmnIt-b"
      },
      "source": [
        "Train step"
      ]
    },
    {
      "cell_type": "code",
      "execution_count": 30,
      "metadata": {
        "id": "BX7qAZYtIt-b"
      },
      "outputs": [],
      "source": [
        "# this function is used during training process, to calculation the loss and accuracy\n",
        "class AverageMeter(object):\n",
        "    def __init__(self):\n",
        "        self.reset()\n",
        "\n",
        "    def reset(self):\n",
        "        self.val = 0\n",
        "        self.avg = 0\n",
        "        self.sum = 0\n",
        "        self.count = 0\n",
        "\n",
        "    def update(self, val, n=1):\n",
        "        self.val = val\n",
        "        self.sum += val * n\n",
        "        self.count += n\n",
        "        self.avg = self.sum / self.count"
      ]
    },
    {
      "cell_type": "code",
      "execution_count": 31,
      "metadata": {
        "id": "Kdb1PGKlIt-b"
      },
      "outputs": [],
      "source": [
        "total_loss_train, total_acc_train = [],[]\n",
        "def train(train_loader, model, criterion, optimizer, epoch):\n",
        "    model.train()\n",
        "    train_loss = AverageMeter()\n",
        "    train_acc = AverageMeter()\n",
        "    curr_iter = (epoch - 1) * len(train_loader)\n",
        "    for i, data in tqdm(enumerate(train_loader), total=len(train_loader)):\n",
        "        images, labels, _ = data\n",
        "        N = images.size(0)\n",
        "        # print('image shape:',images.size(0), 'label shape',labels.size(0))\n",
        "        images = Variable(images).to(device)\n",
        "        labels = Variable(labels).to(device)\n",
        "\n",
        "        optimizer.zero_grad()\n",
        "        outputs = model(images)\n",
        "\n",
        "        loss = criterion(outputs, labels)\n",
        "        loss.backward()\n",
        "        optimizer.step()\n",
        "\n",
        "        prediction = outputs.max(1, keepdim=True)[1]\n",
        "        train_acc.update(prediction.eq(labels.view_as(prediction)).sum().item()/N)\n",
        "        train_loss.update(loss.item())\n",
        "        curr_iter += 1\n",
        "        if (i + 1) % 100 == 0:\n",
        "            print('[epoch %d], [iter %d / %d], [train loss %.5f], [train acc %.5f]' % (\n",
        "                epoch, i + 1, len(train_loader), train_loss.avg, train_acc.avg))\n",
        "            total_loss_train.append(train_loss.avg)\n",
        "            total_acc_train.append(train_acc.avg)\n",
        "    return train_loss.avg, train_acc.avg"
      ]
    },
    {
      "cell_type": "code",
      "execution_count": 32,
      "metadata": {
        "id": "AbZy1J51It-b"
      },
      "outputs": [],
      "source": [
        "def validate(val_loader, model, criterion, optimizer, epoch):\n",
        "    model.eval()\n",
        "    val_loss = AverageMeter()\n",
        "    val_acc = AverageMeter()\n",
        "    with torch.no_grad():\n",
        "        for i, data in tqdm(enumerate(val_loader), total=len(val_loader)):\n",
        "            images, labels, additional_info = data\n",
        "            N = images.size(0)\n",
        "            images = Variable(images).to(device)\n",
        "            labels = Variable(labels).to(device)\n",
        "\n",
        "            outputs = model(images)\n",
        "            prediction = outputs.max(1, keepdim=True)[1]\n",
        "\n",
        "            val_acc.update(prediction.eq(labels.view_as(prediction)).sum().item()/N)\n",
        "\n",
        "            val_loss.update(criterion(outputs, labels).item())\n",
        "\n",
        "    print('------------------------------------------------------------')\n",
        "    print('[epoch %d], [val loss %.5f], [val acc %.5f]' % (epoch, val_loss.avg, val_acc.avg))\n",
        "    print('------------------------------------------------------------')\n",
        "    return val_loss.avg, val_acc.avg"
      ]
    },
    {
      "cell_type": "code",
      "execution_count": 33,
      "metadata": {
        "colab": {
          "base_uri": "https://localhost:8080/"
        },
        "id": "4UFIsO9iIt-c",
        "outputId": "60f9600e-d43b-47e3-fef3-8a03255cbee5"
      },
      "outputs": [
        {
          "output_type": "stream",
          "name": "stdout",
          "text": [
            "Training on epoch 1\n"
          ]
        },
        {
          "output_type": "stream",
          "name": "stderr",
          "text": [
            "  9%|▉         | 101/1091 [00:13<01:19, 12.38it/s]"
          ]
        },
        {
          "output_type": "stream",
          "name": "stdout",
          "text": [
            "[epoch 1], [iter 100 / 1091], [train loss 1.32117], [train acc 0.51562]\n"
          ]
        },
        {
          "output_type": "stream",
          "name": "stderr",
          "text": [
            " 18%|█▊        | 201/1091 [00:21<01:04, 13.72it/s]"
          ]
        },
        {
          "output_type": "stream",
          "name": "stdout",
          "text": [
            "[epoch 1], [iter 200 / 1091], [train loss 1.20948], [train acc 0.56547]\n"
          ]
        },
        {
          "output_type": "stream",
          "name": "stderr",
          "text": [
            " 28%|██▊       | 302/1091 [00:30<00:58, 13.57it/s]"
          ]
        },
        {
          "output_type": "stream",
          "name": "stdout",
          "text": [
            "[epoch 1], [iter 300 / 1091], [train loss 1.12144], [train acc 0.59719]\n"
          ]
        },
        {
          "output_type": "stream",
          "name": "stderr",
          "text": [
            " 37%|███▋      | 401/1091 [00:38<01:14,  9.26it/s]"
          ]
        },
        {
          "output_type": "stream",
          "name": "stdout",
          "text": [
            "[epoch 1], [iter 400 / 1091], [train loss 1.06071], [train acc 0.61805]\n"
          ]
        },
        {
          "output_type": "stream",
          "name": "stderr",
          "text": [
            " 46%|████▌     | 502/1091 [00:46<00:44, 13.23it/s]"
          ]
        },
        {
          "output_type": "stream",
          "name": "stdout",
          "text": [
            "[epoch 1], [iter 500 / 1091], [train loss 1.02347], [train acc 0.63156]\n"
          ]
        },
        {
          "output_type": "stream",
          "name": "stderr",
          "text": [
            " 55%|█████▍    | 600/1091 [00:58<02:18,  3.55it/s]"
          ]
        },
        {
          "output_type": "stream",
          "name": "stdout",
          "text": [
            "[epoch 1], [iter 600 / 1091], [train loss 0.98290], [train acc 0.64417]\n"
          ]
        },
        {
          "output_type": "stream",
          "name": "stderr",
          "text": [
            " 64%|██████▍   | 702/1091 [01:07<00:28, 13.47it/s]"
          ]
        },
        {
          "output_type": "stream",
          "name": "stdout",
          "text": [
            "[epoch 1], [iter 700 / 1091], [train loss 0.95030], [train acc 0.65594]\n"
          ]
        },
        {
          "output_type": "stream",
          "name": "stderr",
          "text": [
            " 74%|███████▎  | 802/1091 [01:16<00:21, 13.61it/s]"
          ]
        },
        {
          "output_type": "stream",
          "name": "stdout",
          "text": [
            "[epoch 1], [iter 800 / 1091], [train loss 0.92367], [train acc 0.66523]\n"
          ]
        },
        {
          "output_type": "stream",
          "name": "stderr",
          "text": [
            " 83%|████████▎ | 902/1091 [01:23<00:13, 13.71it/s]"
          ]
        },
        {
          "output_type": "stream",
          "name": "stdout",
          "text": [
            "[epoch 1], [iter 900 / 1091], [train loss 0.89662], [train acc 0.67500]\n"
          ]
        },
        {
          "output_type": "stream",
          "name": "stderr",
          "text": [
            " 92%|█████████▏| 1001/1091 [01:32<00:06, 13.54it/s]"
          ]
        },
        {
          "output_type": "stream",
          "name": "stdout",
          "text": [
            "[epoch 1], [iter 1000 / 1091], [train loss 0.87137], [train acc 0.68400]\n"
          ]
        },
        {
          "output_type": "stream",
          "name": "stderr",
          "text": [
            "100%|██████████| 1091/1091 [01:40<00:00, 10.90it/s]\n",
            "100%|██████████| 62/62 [00:03<00:00, 20.42it/s]"
          ]
        },
        {
          "output_type": "stream",
          "name": "stdout",
          "text": [
            "------------------------------------------------------------\n",
            "[epoch 1], [val loss 0.70147], [val acc 0.71976]\n",
            "------------------------------------------------------------\n",
            "*****************************************************\n",
            "Best record: [epoch 1], [val loss 0.70147], [val acc 0.71976]\n",
            "*****************************************************\n",
            "Training on epoch 2\n"
          ]
        },
        {
          "output_type": "stream",
          "name": "stderr",
          "text": [
            "\n",
            "  9%|▉         | 102/1091 [00:08<01:14, 13.25it/s]"
          ]
        },
        {
          "output_type": "stream",
          "name": "stdout",
          "text": [
            "[epoch 2], [iter 100 / 1091], [train loss 0.57052], [train acc 0.78312]\n"
          ]
        },
        {
          "output_type": "stream",
          "name": "stderr",
          "text": [
            " 19%|█▊        | 202/1091 [00:17<01:07, 13.11it/s]"
          ]
        },
        {
          "output_type": "stream",
          "name": "stdout",
          "text": [
            "[epoch 2], [iter 200 / 1091], [train loss 0.57647], [train acc 0.78438]\n"
          ]
        },
        {
          "output_type": "stream",
          "name": "stderr",
          "text": [
            " 28%|██▊       | 302/1091 [00:25<01:01, 12.91it/s]"
          ]
        },
        {
          "output_type": "stream",
          "name": "stdout",
          "text": [
            "[epoch 2], [iter 300 / 1091], [train loss 0.58036], [train acc 0.78312]\n"
          ]
        },
        {
          "output_type": "stream",
          "name": "stderr",
          "text": [
            " 37%|███▋      | 401/1091 [00:34<00:52, 13.20it/s]"
          ]
        },
        {
          "output_type": "stream",
          "name": "stdout",
          "text": [
            "[epoch 2], [iter 400 / 1091], [train loss 0.57548], [train acc 0.78680]\n"
          ]
        },
        {
          "output_type": "stream",
          "name": "stderr",
          "text": [
            " 46%|████▌     | 501/1091 [00:42<00:54, 10.91it/s]"
          ]
        },
        {
          "output_type": "stream",
          "name": "stdout",
          "text": [
            "[epoch 2], [iter 500 / 1091], [train loss 0.58967], [train acc 0.78187]\n"
          ]
        },
        {
          "output_type": "stream",
          "name": "stderr",
          "text": [
            " 55%|█████▌    | 602/1091 [00:51<00:37, 13.10it/s]"
          ]
        },
        {
          "output_type": "stream",
          "name": "stdout",
          "text": [
            "[epoch 2], [iter 600 / 1091], [train loss 0.58879], [train acc 0.78187]\n"
          ]
        },
        {
          "output_type": "stream",
          "name": "stderr",
          "text": [
            " 64%|██████▍   | 701/1091 [01:00<01:11,  5.44it/s]"
          ]
        },
        {
          "output_type": "stream",
          "name": "stdout",
          "text": [
            "[epoch 2], [iter 700 / 1091], [train loss 0.59163], [train acc 0.78103]\n"
          ]
        },
        {
          "output_type": "stream",
          "name": "stderr",
          "text": [
            " 74%|███████▎  | 802/1091 [01:08<00:21, 13.25it/s]"
          ]
        },
        {
          "output_type": "stream",
          "name": "stdout",
          "text": [
            "[epoch 2], [iter 800 / 1091], [train loss 0.61252], [train acc 0.77551]\n"
          ]
        },
        {
          "output_type": "stream",
          "name": "stderr",
          "text": [
            " 83%|████████▎ | 901/1091 [01:19<00:14, 12.67it/s]"
          ]
        },
        {
          "output_type": "stream",
          "name": "stdout",
          "text": [
            "[epoch 2], [iter 900 / 1091], [train loss 0.61610], [train acc 0.77420]\n"
          ]
        },
        {
          "output_type": "stream",
          "name": "stderr",
          "text": [
            " 92%|█████████▏| 1001/1091 [01:27<00:06, 13.09it/s]"
          ]
        },
        {
          "output_type": "stream",
          "name": "stdout",
          "text": [
            "[epoch 2], [iter 1000 / 1091], [train loss 0.60848], [train acc 0.77691]\n"
          ]
        },
        {
          "output_type": "stream",
          "name": "stderr",
          "text": [
            "100%|██████████| 1091/1091 [01:35<00:00, 11.41it/s]\n",
            "100%|██████████| 62/62 [00:02<00:00, 28.62it/s]"
          ]
        },
        {
          "output_type": "stream",
          "name": "stdout",
          "text": [
            "------------------------------------------------------------\n",
            "[epoch 2], [val loss 0.69793], [val acc 0.73488]\n",
            "------------------------------------------------------------\n",
            "*****************************************************\n",
            "Best record: [epoch 2], [val loss 0.69793], [val acc 0.73488]\n",
            "*****************************************************\n",
            "Training on epoch 3\n"
          ]
        },
        {
          "output_type": "stream",
          "name": "stderr",
          "text": [
            "\n",
            "  9%|▉         | 101/1091 [00:09<01:57,  8.46it/s]"
          ]
        },
        {
          "output_type": "stream",
          "name": "stdout",
          "text": [
            "[epoch 3], [iter 100 / 1091], [train loss 0.43712], [train acc 0.83562]\n"
          ]
        },
        {
          "output_type": "stream",
          "name": "stderr",
          "text": [
            " 18%|█▊        | 201/1091 [00:17<01:08, 12.92it/s]"
          ]
        },
        {
          "output_type": "stream",
          "name": "stdout",
          "text": [
            "[epoch 3], [iter 200 / 1091], [train loss 0.44867], [train acc 0.82984]\n"
          ]
        },
        {
          "output_type": "stream",
          "name": "stderr",
          "text": [
            " 28%|██▊       | 302/1091 [00:26<00:59, 13.27it/s]"
          ]
        },
        {
          "output_type": "stream",
          "name": "stdout",
          "text": [
            "[epoch 3], [iter 300 / 1091], [train loss 0.45864], [train acc 0.82844]\n"
          ]
        },
        {
          "output_type": "stream",
          "name": "stderr",
          "text": [
            " 37%|███▋      | 402/1091 [00:34<00:51, 13.34it/s]"
          ]
        },
        {
          "output_type": "stream",
          "name": "stdout",
          "text": [
            "[epoch 3], [iter 400 / 1091], [train loss 0.46118], [train acc 0.83031]\n"
          ]
        },
        {
          "output_type": "stream",
          "name": "stderr",
          "text": [
            " 46%|████▌     | 502/1091 [00:43<00:44, 13.28it/s]"
          ]
        },
        {
          "output_type": "stream",
          "name": "stdout",
          "text": [
            "[epoch 3], [iter 500 / 1091], [train loss 0.45676], [train acc 0.83206]\n"
          ]
        },
        {
          "output_type": "stream",
          "name": "stderr",
          "text": [
            " 55%|█████▌    | 602/1091 [00:51<00:47, 10.36it/s]"
          ]
        },
        {
          "output_type": "stream",
          "name": "stdout",
          "text": [
            "[epoch 3], [iter 600 / 1091], [train loss 0.45045], [train acc 0.83339]\n"
          ]
        },
        {
          "output_type": "stream",
          "name": "stderr",
          "text": [
            " 64%|██████▍   | 701/1091 [01:00<00:30, 12.62it/s]"
          ]
        },
        {
          "output_type": "stream",
          "name": "stdout",
          "text": [
            "[epoch 3], [iter 700 / 1091], [train loss 0.44606], [train acc 0.83509]\n"
          ]
        },
        {
          "output_type": "stream",
          "name": "stderr",
          "text": [
            " 73%|███████▎  | 801/1091 [01:08<00:35,  8.17it/s]"
          ]
        },
        {
          "output_type": "stream",
          "name": "stdout",
          "text": [
            "[epoch 3], [iter 800 / 1091], [train loss 0.44744], [train acc 0.83516]\n"
          ]
        },
        {
          "output_type": "stream",
          "name": "stderr",
          "text": [
            " 83%|████████▎ | 901/1091 [01:16<00:14, 13.48it/s]"
          ]
        },
        {
          "output_type": "stream",
          "name": "stdout",
          "text": [
            "[epoch 3], [iter 900 / 1091], [train loss 0.44476], [train acc 0.83660]\n"
          ]
        },
        {
          "output_type": "stream",
          "name": "stderr",
          "text": [
            " 92%|█████████▏| 1002/1091 [01:26<00:07, 12.58it/s]"
          ]
        },
        {
          "output_type": "stream",
          "name": "stdout",
          "text": [
            "[epoch 3], [iter 1000 / 1091], [train loss 0.43975], [train acc 0.83788]\n"
          ]
        },
        {
          "output_type": "stream",
          "name": "stderr",
          "text": [
            "100%|██████████| 1091/1091 [01:32<00:00, 11.75it/s]\n",
            "100%|██████████| 62/62 [00:02<00:00, 29.40it/s]"
          ]
        },
        {
          "output_type": "stream",
          "name": "stdout",
          "text": [
            "------------------------------------------------------------\n",
            "[epoch 3], [val loss 0.78585], [val acc 0.71976]\n",
            "------------------------------------------------------------\n",
            "Training on epoch 4\n"
          ]
        },
        {
          "output_type": "stream",
          "name": "stderr",
          "text": [
            "\n",
            "  9%|▉         | 101/1091 [00:09<01:13, 13.51it/s]"
          ]
        },
        {
          "output_type": "stream",
          "name": "stdout",
          "text": [
            "[epoch 4], [iter 100 / 1091], [train loss 0.45557], [train acc 0.82969]\n"
          ]
        },
        {
          "output_type": "stream",
          "name": "stderr",
          "text": [
            " 18%|█▊        | 201/1091 [00:18<01:38,  9.03it/s]"
          ]
        },
        {
          "output_type": "stream",
          "name": "stdout",
          "text": [
            "[epoch 4], [iter 200 / 1091], [train loss 0.43106], [train acc 0.83906]\n"
          ]
        },
        {
          "output_type": "stream",
          "name": "stderr",
          "text": [
            " 28%|██▊       | 302/1091 [00:26<00:58, 13.47it/s]"
          ]
        },
        {
          "output_type": "stream",
          "name": "stdout",
          "text": [
            "[epoch 4], [iter 300 / 1091], [train loss 0.40364], [train acc 0.85135]\n"
          ]
        },
        {
          "output_type": "stream",
          "name": "stderr",
          "text": [
            " 37%|███▋      | 402/1091 [00:35<01:14,  9.22it/s]"
          ]
        },
        {
          "output_type": "stream",
          "name": "stdout",
          "text": [
            "[epoch 4], [iter 400 / 1091], [train loss 0.40879], [train acc 0.85188]\n"
          ]
        },
        {
          "output_type": "stream",
          "name": "stderr",
          "text": [
            " 46%|████▌     | 502/1091 [00:43<00:44, 13.20it/s]"
          ]
        },
        {
          "output_type": "stream",
          "name": "stdout",
          "text": [
            "[epoch 4], [iter 500 / 1091], [train loss 0.39393], [train acc 0.85694]\n"
          ]
        },
        {
          "output_type": "stream",
          "name": "stderr",
          "text": [
            " 55%|█████▌    | 601/1091 [00:52<00:36, 13.25it/s]"
          ]
        },
        {
          "output_type": "stream",
          "name": "stdout",
          "text": [
            "[epoch 4], [iter 600 / 1091], [train loss 0.38858], [train acc 0.85885]\n"
          ]
        },
        {
          "output_type": "stream",
          "name": "stderr",
          "text": [
            " 64%|██████▍   | 701/1091 [00:59<00:29, 13.34it/s]"
          ]
        },
        {
          "output_type": "stream",
          "name": "stdout",
          "text": [
            "[epoch 4], [iter 700 / 1091], [train loss 0.37857], [train acc 0.86205]\n"
          ]
        },
        {
          "output_type": "stream",
          "name": "stderr",
          "text": [
            " 73%|███████▎  | 801/1091 [01:09<00:21, 13.22it/s]"
          ]
        },
        {
          "output_type": "stream",
          "name": "stdout",
          "text": [
            "[epoch 4], [iter 800 / 1091], [train loss 0.37567], [train acc 0.86203]\n"
          ]
        },
        {
          "output_type": "stream",
          "name": "stderr",
          "text": [
            " 83%|████████▎ | 901/1091 [01:17<00:20,  9.45it/s]"
          ]
        },
        {
          "output_type": "stream",
          "name": "stdout",
          "text": [
            "[epoch 4], [iter 900 / 1091], [train loss 0.37216], [train acc 0.86358]\n"
          ]
        },
        {
          "output_type": "stream",
          "name": "stderr",
          "text": [
            " 92%|█████████▏| 1002/1091 [01:25<00:06, 13.17it/s]"
          ]
        },
        {
          "output_type": "stream",
          "name": "stdout",
          "text": [
            "[epoch 4], [iter 1000 / 1091], [train loss 0.36757], [train acc 0.86562]\n"
          ]
        },
        {
          "output_type": "stream",
          "name": "stderr",
          "text": [
            "100%|██████████| 1091/1091 [01:33<00:00, 11.68it/s]\n",
            "100%|██████████| 62/62 [00:02<00:00, 21.19it/s]"
          ]
        },
        {
          "output_type": "stream",
          "name": "stdout",
          "text": [
            "------------------------------------------------------------\n",
            "[epoch 4], [val loss 0.88951], [val acc 0.70817]\n",
            "------------------------------------------------------------\n",
            "Training on epoch 5\n"
          ]
        },
        {
          "output_type": "stream",
          "name": "stderr",
          "text": [
            "\n",
            "  9%|▉         | 101/1091 [00:07<01:15, 13.07it/s]"
          ]
        },
        {
          "output_type": "stream",
          "name": "stdout",
          "text": [
            "[epoch 5], [iter 100 / 1091], [train loss 0.37165], [train acc 0.86562]\n"
          ]
        },
        {
          "output_type": "stream",
          "name": "stderr",
          "text": [
            " 18%|█▊        | 201/1091 [00:16<01:06, 13.29it/s]"
          ]
        },
        {
          "output_type": "stream",
          "name": "stdout",
          "text": [
            "[epoch 5], [iter 200 / 1091], [train loss 0.32559], [train acc 0.88000]\n"
          ]
        },
        {
          "output_type": "stream",
          "name": "stderr",
          "text": [
            " 28%|██▊       | 301/1091 [00:24<00:58, 13.49it/s]"
          ]
        },
        {
          "output_type": "stream",
          "name": "stdout",
          "text": [
            "[epoch 5], [iter 300 / 1091], [train loss 0.30685], [train acc 0.88687]\n"
          ]
        },
        {
          "output_type": "stream",
          "name": "stderr",
          "text": [
            " 37%|███▋      | 401/1091 [00:33<00:50, 13.70it/s]"
          ]
        },
        {
          "output_type": "stream",
          "name": "stdout",
          "text": [
            "[epoch 5], [iter 400 / 1091], [train loss 0.30504], [train acc 0.88664]\n"
          ]
        },
        {
          "output_type": "stream",
          "name": "stderr",
          "text": [
            " 46%|████▌     | 502/1091 [00:41<00:58, 10.07it/s]"
          ]
        },
        {
          "output_type": "stream",
          "name": "stdout",
          "text": [
            "[epoch 5], [iter 500 / 1091], [train loss 0.30305], [train acc 0.88731]\n"
          ]
        },
        {
          "output_type": "stream",
          "name": "stderr",
          "text": [
            " 55%|█████▌    | 601/1091 [00:50<00:36, 13.25it/s]"
          ]
        },
        {
          "output_type": "stream",
          "name": "stdout",
          "text": [
            "[epoch 5], [iter 600 / 1091], [train loss 0.29762], [train acc 0.88911]\n"
          ]
        },
        {
          "output_type": "stream",
          "name": "stderr",
          "text": [
            " 64%|██████▍   | 701/1091 [00:59<00:46,  8.46it/s]"
          ]
        },
        {
          "output_type": "stream",
          "name": "stdout",
          "text": [
            "[epoch 5], [iter 700 / 1091], [train loss 0.29421], [train acc 0.89165]\n"
          ]
        },
        {
          "output_type": "stream",
          "name": "stderr",
          "text": [
            " 74%|███████▎  | 802/1091 [01:07<00:21, 13.47it/s]"
          ]
        },
        {
          "output_type": "stream",
          "name": "stdout",
          "text": [
            "[epoch 5], [iter 800 / 1091], [train loss 0.29473], [train acc 0.89234]\n"
          ]
        },
        {
          "output_type": "stream",
          "name": "stderr",
          "text": [
            " 83%|████████▎ | 901/1091 [01:16<00:14, 12.79it/s]"
          ]
        },
        {
          "output_type": "stream",
          "name": "stdout",
          "text": [
            "[epoch 5], [iter 900 / 1091], [train loss 0.29064], [train acc 0.89403]\n"
          ]
        },
        {
          "output_type": "stream",
          "name": "stderr",
          "text": [
            " 92%|█████████▏| 1001/1091 [01:23<00:06, 13.45it/s]"
          ]
        },
        {
          "output_type": "stream",
          "name": "stdout",
          "text": [
            "[epoch 5], [iter 1000 / 1091], [train loss 0.28951], [train acc 0.89441]\n"
          ]
        },
        {
          "output_type": "stream",
          "name": "stderr",
          "text": [
            "100%|██████████| 1091/1091 [01:32<00:00, 11.83it/s]\n",
            "100%|██████████| 62/62 [00:02<00:00, 30.06it/s]"
          ]
        },
        {
          "output_type": "stream",
          "name": "stdout",
          "text": [
            "------------------------------------------------------------\n",
            "[epoch 5], [val loss 0.81796], [val acc 0.73891]\n",
            "------------------------------------------------------------\n",
            "*****************************************************\n",
            "Best record: [epoch 5], [val loss 0.81796], [val acc 0.73891]\n",
            "*****************************************************\n",
            "Training on epoch 6\n"
          ]
        },
        {
          "output_type": "stream",
          "name": "stderr",
          "text": [
            "\n",
            "  9%|▉         | 101/1091 [00:08<01:45,  9.39it/s]"
          ]
        },
        {
          "output_type": "stream",
          "name": "stdout",
          "text": [
            "[epoch 6], [iter 100 / 1091], [train loss 0.49399], [train acc 0.84250]\n"
          ]
        },
        {
          "output_type": "stream",
          "name": "stderr",
          "text": [
            " 18%|█▊        | 201/1091 [00:17<01:06, 13.32it/s]"
          ]
        },
        {
          "output_type": "stream",
          "name": "stdout",
          "text": [
            "[epoch 6], [iter 200 / 1091], [train loss 0.41491], [train acc 0.85953]\n"
          ]
        },
        {
          "output_type": "stream",
          "name": "stderr",
          "text": [
            " 28%|██▊       | 301/1091 [00:26<01:31,  8.64it/s]"
          ]
        },
        {
          "output_type": "stream",
          "name": "stdout",
          "text": [
            "[epoch 6], [iter 300 / 1091], [train loss 0.36255], [train acc 0.87417]\n"
          ]
        },
        {
          "output_type": "stream",
          "name": "stderr",
          "text": [
            " 37%|███▋      | 402/1091 [00:33<00:51, 13.30it/s]"
          ]
        },
        {
          "output_type": "stream",
          "name": "stdout",
          "text": [
            "[epoch 6], [iter 400 / 1091], [train loss 0.32862], [train acc 0.88367]\n"
          ]
        },
        {
          "output_type": "stream",
          "name": "stderr",
          "text": [
            " 46%|████▌     | 502/1091 [00:42<00:45, 12.84it/s]"
          ]
        },
        {
          "output_type": "stream",
          "name": "stdout",
          "text": [
            "[epoch 6], [iter 500 / 1091], [train loss 0.31057], [train acc 0.88906]\n"
          ]
        },
        {
          "output_type": "stream",
          "name": "stderr",
          "text": [
            " 55%|█████▌    | 602/1091 [00:50<00:37, 13.04it/s]"
          ]
        },
        {
          "output_type": "stream",
          "name": "stdout",
          "text": [
            "[epoch 6], [iter 600 / 1091], [train loss 0.29586], [train acc 0.89453]\n"
          ]
        },
        {
          "output_type": "stream",
          "name": "stderr",
          "text": [
            " 64%|██████▍   | 701/1091 [00:59<00:29, 13.18it/s]"
          ]
        },
        {
          "output_type": "stream",
          "name": "stdout",
          "text": [
            "[epoch 6], [iter 700 / 1091], [train loss 0.29257], [train acc 0.89509]\n"
          ]
        },
        {
          "output_type": "stream",
          "name": "stderr",
          "text": [
            " 73%|███████▎  | 801/1091 [01:07<00:29,  9.80it/s]"
          ]
        },
        {
          "output_type": "stream",
          "name": "stdout",
          "text": [
            "[epoch 6], [iter 800 / 1091], [train loss 0.30104], [train acc 0.89223]\n"
          ]
        },
        {
          "output_type": "stream",
          "name": "stderr",
          "text": [
            " 83%|████████▎ | 902/1091 [01:16<00:13, 13.58it/s]"
          ]
        },
        {
          "output_type": "stream",
          "name": "stdout",
          "text": [
            "[epoch 6], [iter 900 / 1091], [train loss 0.29503], [train acc 0.89410]\n"
          ]
        },
        {
          "output_type": "stream",
          "name": "stderr",
          "text": [
            " 92%|█████████▏| 1001/1091 [01:25<00:10,  8.33it/s]"
          ]
        },
        {
          "output_type": "stream",
          "name": "stdout",
          "text": [
            "[epoch 6], [iter 1000 / 1091], [train loss 0.29063], [train acc 0.89559]\n"
          ]
        },
        {
          "output_type": "stream",
          "name": "stderr",
          "text": [
            "100%|██████████| 1091/1091 [01:32<00:00, 11.78it/s]\n",
            "100%|██████████| 62/62 [00:02<00:00, 30.06it/s]"
          ]
        },
        {
          "output_type": "stream",
          "name": "stdout",
          "text": [
            "------------------------------------------------------------\n",
            "[epoch 6], [val loss 0.71062], [val acc 0.78075]\n",
            "------------------------------------------------------------\n",
            "*****************************************************\n",
            "Best record: [epoch 6], [val loss 0.71062], [val acc 0.78075]\n",
            "*****************************************************\n",
            "Training on epoch 7\n"
          ]
        },
        {
          "output_type": "stream",
          "name": "stderr",
          "text": [
            "\n",
            "  9%|▉         | 102/1091 [00:09<01:21, 12.12it/s]"
          ]
        },
        {
          "output_type": "stream",
          "name": "stdout",
          "text": [
            "[epoch 7], [iter 100 / 1091], [train loss 0.19694], [train acc 0.92844]\n"
          ]
        },
        {
          "output_type": "stream",
          "name": "stderr",
          "text": [
            " 18%|█▊        | 200/1091 [00:17<01:13, 12.10it/s]"
          ]
        },
        {
          "output_type": "stream",
          "name": "stdout",
          "text": [
            "[epoch 7], [iter 200 / 1091], [train loss 0.18832], [train acc 0.93203]\n"
          ]
        },
        {
          "output_type": "stream",
          "name": "stderr",
          "text": [
            " 28%|██▊       | 301/1091 [00:26<01:00, 13.13it/s]"
          ]
        },
        {
          "output_type": "stream",
          "name": "stdout",
          "text": [
            "[epoch 7], [iter 300 / 1091], [train loss 0.19036], [train acc 0.93115]\n"
          ]
        },
        {
          "output_type": "stream",
          "name": "stderr",
          "text": [
            " 37%|███▋      | 401/1091 [00:34<01:16,  8.96it/s]"
          ]
        },
        {
          "output_type": "stream",
          "name": "stdout",
          "text": [
            "[epoch 7], [iter 400 / 1091], [train loss 0.19464], [train acc 0.92969]\n"
          ]
        },
        {
          "output_type": "stream",
          "name": "stderr",
          "text": [
            " 46%|████▌     | 502/1091 [00:43<00:44, 13.32it/s]"
          ]
        },
        {
          "output_type": "stream",
          "name": "stdout",
          "text": [
            "[epoch 7], [iter 500 / 1091], [train loss 0.20110], [train acc 0.92806]\n"
          ]
        },
        {
          "output_type": "stream",
          "name": "stderr",
          "text": [
            " 55%|█████▌    | 601/1091 [00:52<00:51,  9.47it/s]"
          ]
        },
        {
          "output_type": "stream",
          "name": "stdout",
          "text": [
            "[epoch 7], [iter 600 / 1091], [train loss 0.19792], [train acc 0.92937]\n"
          ]
        },
        {
          "output_type": "stream",
          "name": "stderr",
          "text": [
            " 64%|██████▍   | 701/1091 [01:00<00:29, 13.35it/s]"
          ]
        },
        {
          "output_type": "stream",
          "name": "stdout",
          "text": [
            "[epoch 7], [iter 700 / 1091], [train loss 0.19877], [train acc 0.92888]\n"
          ]
        },
        {
          "output_type": "stream",
          "name": "stderr",
          "text": [
            " 74%|███████▎  | 802/1091 [01:09<00:22, 12.94it/s]"
          ]
        },
        {
          "output_type": "stream",
          "name": "stdout",
          "text": [
            "[epoch 7], [iter 800 / 1091], [train loss 0.20307], [train acc 0.92758]\n"
          ]
        },
        {
          "output_type": "stream",
          "name": "stderr",
          "text": [
            " 83%|████████▎ | 902/1091 [01:17<00:14, 13.34it/s]"
          ]
        },
        {
          "output_type": "stream",
          "name": "stdout",
          "text": [
            "[epoch 7], [iter 900 / 1091], [train loss 0.20184], [train acc 0.92837]\n"
          ]
        },
        {
          "output_type": "stream",
          "name": "stderr",
          "text": [
            " 92%|█████████▏| 1002/1091 [01:26<00:06, 13.09it/s]"
          ]
        },
        {
          "output_type": "stream",
          "name": "stdout",
          "text": [
            "[epoch 7], [iter 1000 / 1091], [train loss 0.20370], [train acc 0.92788]\n"
          ]
        },
        {
          "output_type": "stream",
          "name": "stderr",
          "text": [
            "100%|██████████| 1091/1091 [01:33<00:00, 11.72it/s]\n",
            "100%|██████████| 62/62 [00:02<00:00, 22.05it/s]"
          ]
        },
        {
          "output_type": "stream",
          "name": "stdout",
          "text": [
            "------------------------------------------------------------\n",
            "[epoch 7], [val loss 0.78120], [val acc 0.79284]\n",
            "------------------------------------------------------------\n",
            "*****************************************************\n",
            "Best record: [epoch 7], [val loss 0.78120], [val acc 0.79284]\n",
            "*****************************************************\n",
            "Training on epoch 8\n"
          ]
        },
        {
          "output_type": "stream",
          "name": "stderr",
          "text": [
            "\n",
            "  9%|▉         | 101/1091 [00:08<01:15, 13.12it/s]"
          ]
        },
        {
          "output_type": "stream",
          "name": "stdout",
          "text": [
            "[epoch 8], [iter 100 / 1091], [train loss 0.15608], [train acc 0.94188]\n"
          ]
        },
        {
          "output_type": "stream",
          "name": "stderr",
          "text": [
            " 18%|█▊        | 201/1091 [00:17<01:47,  8.31it/s]"
          ]
        },
        {
          "output_type": "stream",
          "name": "stdout",
          "text": [
            "[epoch 8], [iter 200 / 1091], [train loss 0.15286], [train acc 0.94484]\n"
          ]
        },
        {
          "output_type": "stream",
          "name": "stderr",
          "text": [
            " 28%|██▊       | 302/1091 [00:25<00:59, 13.33it/s]"
          ]
        },
        {
          "output_type": "stream",
          "name": "stdout",
          "text": [
            "[epoch 8], [iter 300 / 1091], [train loss 0.15217], [train acc 0.94500]\n"
          ]
        },
        {
          "output_type": "stream",
          "name": "stderr",
          "text": [
            " 37%|███▋      | 401/1091 [00:34<00:52, 13.08it/s]"
          ]
        },
        {
          "output_type": "stream",
          "name": "stdout",
          "text": [
            "[epoch 8], [iter 400 / 1091], [train loss 0.15512], [train acc 0.94281]\n"
          ]
        },
        {
          "output_type": "stream",
          "name": "stderr",
          "text": [
            " 46%|████▌     | 501/1091 [00:42<00:44, 13.34it/s]"
          ]
        },
        {
          "output_type": "stream",
          "name": "stdout",
          "text": [
            "[epoch 8], [iter 500 / 1091], [train loss 0.16303], [train acc 0.94050]\n"
          ]
        },
        {
          "output_type": "stream",
          "name": "stderr",
          "text": [
            " 55%|█████▌    | 602/1091 [00:51<00:36, 13.31it/s]"
          ]
        },
        {
          "output_type": "stream",
          "name": "stdout",
          "text": [
            "[epoch 8], [iter 600 / 1091], [train loss 0.16513], [train acc 0.93984]\n"
          ]
        },
        {
          "output_type": "stream",
          "name": "stderr",
          "text": [
            " 64%|██████▍   | 700/1091 [00:59<00:38, 10.20it/s]"
          ]
        },
        {
          "output_type": "stream",
          "name": "stdout",
          "text": [
            "[epoch 8], [iter 700 / 1091], [train loss 0.16733], [train acc 0.93915]\n"
          ]
        },
        {
          "output_type": "stream",
          "name": "stderr",
          "text": [
            " 74%|███████▎  | 802/1091 [01:08<00:21, 13.34it/s]"
          ]
        },
        {
          "output_type": "stream",
          "name": "stdout",
          "text": [
            "[epoch 8], [iter 800 / 1091], [train loss 0.16584], [train acc 0.93957]\n"
          ]
        },
        {
          "output_type": "stream",
          "name": "stderr",
          "text": [
            " 83%|████████▎ | 901/1091 [01:16<00:22,  8.52it/s]"
          ]
        },
        {
          "output_type": "stream",
          "name": "stdout",
          "text": [
            "[epoch 8], [iter 900 / 1091], [train loss 0.16779], [train acc 0.93906]\n"
          ]
        },
        {
          "output_type": "stream",
          "name": "stderr",
          "text": [
            " 92%|█████████▏| 1002/1091 [01:25<00:06, 13.46it/s]"
          ]
        },
        {
          "output_type": "stream",
          "name": "stdout",
          "text": [
            "[epoch 8], [iter 1000 / 1091], [train loss 0.17120], [train acc 0.93775]\n"
          ]
        },
        {
          "output_type": "stream",
          "name": "stderr",
          "text": [
            "100%|██████████| 1091/1091 [01:33<00:00, 11.72it/s]\n",
            "100%|██████████| 62/62 [00:02<00:00, 26.40it/s]"
          ]
        },
        {
          "output_type": "stream",
          "name": "stdout",
          "text": [
            "------------------------------------------------------------\n",
            "[epoch 8], [val loss 0.77578], [val acc 0.77722]\n",
            "------------------------------------------------------------\n",
            "Training on epoch 9\n"
          ]
        },
        {
          "output_type": "stream",
          "name": "stderr",
          "text": [
            "\n",
            "  9%|▉         | 101/1091 [00:07<01:14, 13.26it/s]"
          ]
        },
        {
          "output_type": "stream",
          "name": "stdout",
          "text": [
            "[epoch 9], [iter 100 / 1091], [train loss 0.12302], [train acc 0.95500]\n"
          ]
        },
        {
          "output_type": "stream",
          "name": "stderr",
          "text": [
            " 19%|█▊        | 202/1091 [00:16<01:06, 13.32it/s]"
          ]
        },
        {
          "output_type": "stream",
          "name": "stdout",
          "text": [
            "[epoch 9], [iter 200 / 1091], [train loss 0.13678], [train acc 0.95172]\n"
          ]
        },
        {
          "output_type": "stream",
          "name": "stderr",
          "text": [
            " 28%|██▊       | 301/1091 [00:24<01:21,  9.69it/s]"
          ]
        },
        {
          "output_type": "stream",
          "name": "stdout",
          "text": [
            "[epoch 9], [iter 300 / 1091], [train loss 0.14416], [train acc 0.94792]\n"
          ]
        },
        {
          "output_type": "stream",
          "name": "stderr",
          "text": [
            " 37%|███▋      | 402/1091 [00:33<00:53, 12.99it/s]"
          ]
        },
        {
          "output_type": "stream",
          "name": "stdout",
          "text": [
            "[epoch 9], [iter 400 / 1091], [train loss 0.14945], [train acc 0.94578]\n"
          ]
        },
        {
          "output_type": "stream",
          "name": "stderr",
          "text": [
            " 46%|████▌     | 501/1091 [00:42<01:10,  8.39it/s]"
          ]
        },
        {
          "output_type": "stream",
          "name": "stdout",
          "text": [
            "[epoch 9], [iter 500 / 1091], [train loss 0.15177], [train acc 0.94569]\n"
          ]
        },
        {
          "output_type": "stream",
          "name": "stderr",
          "text": [
            " 55%|█████▌    | 601/1091 [00:50<00:37, 13.19it/s]"
          ]
        },
        {
          "output_type": "stream",
          "name": "stdout",
          "text": [
            "[epoch 9], [iter 600 / 1091], [train loss 0.15276], [train acc 0.94469]\n"
          ]
        },
        {
          "output_type": "stream",
          "name": "stderr",
          "text": [
            " 64%|██████▍   | 702/1091 [00:59<00:35, 10.91it/s]"
          ]
        },
        {
          "output_type": "stream",
          "name": "stdout",
          "text": [
            "[epoch 9], [iter 700 / 1091], [train loss 0.15277], [train acc 0.94420]\n"
          ]
        },
        {
          "output_type": "stream",
          "name": "stderr",
          "text": [
            " 74%|███████▎  | 802/1091 [01:07<00:21, 13.22it/s]"
          ]
        },
        {
          "output_type": "stream",
          "name": "stdout",
          "text": [
            "[epoch 9], [iter 800 / 1091], [train loss 0.16712], [train acc 0.93953]\n"
          ]
        },
        {
          "output_type": "stream",
          "name": "stderr",
          "text": [
            " 83%|████████▎ | 902/1091 [01:16<00:14, 13.40it/s]"
          ]
        },
        {
          "output_type": "stream",
          "name": "stdout",
          "text": [
            "[epoch 9], [iter 900 / 1091], [train loss 0.16769], [train acc 0.93951]\n"
          ]
        },
        {
          "output_type": "stream",
          "name": "stderr",
          "text": [
            " 92%|█████████▏| 1002/1091 [01:23<00:06, 13.33it/s]"
          ]
        },
        {
          "output_type": "stream",
          "name": "stdout",
          "text": [
            "[epoch 9], [iter 1000 / 1091], [train loss 0.16729], [train acc 0.93997]\n"
          ]
        },
        {
          "output_type": "stream",
          "name": "stderr",
          "text": [
            "100%|██████████| 1091/1091 [01:32<00:00, 11.79it/s]\n",
            "100%|██████████| 62/62 [00:02<00:00, 28.93it/s]"
          ]
        },
        {
          "output_type": "stream",
          "name": "stdout",
          "text": [
            "------------------------------------------------------------\n",
            "[epoch 9], [val loss 0.83227], [val acc 0.75806]\n",
            "------------------------------------------------------------\n",
            "Training on epoch 10\n"
          ]
        },
        {
          "output_type": "stream",
          "name": "stderr",
          "text": [
            "\n",
            "  9%|▉         | 101/1091 [00:09<01:55,  8.60it/s]"
          ]
        },
        {
          "output_type": "stream",
          "name": "stdout",
          "text": [
            "[epoch 10], [iter 100 / 1091], [train loss 0.16702], [train acc 0.94437]\n"
          ]
        },
        {
          "output_type": "stream",
          "name": "stderr",
          "text": [
            " 18%|█▊        | 201/1091 [00:17<01:07, 13.10it/s]"
          ]
        },
        {
          "output_type": "stream",
          "name": "stdout",
          "text": [
            "[epoch 10], [iter 200 / 1091], [train loss 0.16294], [train acc 0.94375]\n"
          ]
        },
        {
          "output_type": "stream",
          "name": "stderr",
          "text": [
            " 28%|██▊       | 301/1091 [00:27<01:08, 11.61it/s]"
          ]
        },
        {
          "output_type": "stream",
          "name": "stdout",
          "text": [
            "[epoch 10], [iter 300 / 1091], [train loss 0.14982], [train acc 0.94688]\n"
          ]
        },
        {
          "output_type": "stream",
          "name": "stderr",
          "text": [
            " 37%|███▋      | 401/1091 [00:34<00:51, 13.28it/s]"
          ]
        },
        {
          "output_type": "stream",
          "name": "stdout",
          "text": [
            "[epoch 10], [iter 400 / 1091], [train loss 0.14147], [train acc 0.94961]\n"
          ]
        },
        {
          "output_type": "stream",
          "name": "stderr",
          "text": [
            " 46%|████▌     | 502/1091 [00:44<00:45, 12.85it/s]"
          ]
        },
        {
          "output_type": "stream",
          "name": "stdout",
          "text": [
            "[epoch 10], [iter 500 / 1091], [train loss 0.13529], [train acc 0.95188]\n"
          ]
        },
        {
          "output_type": "stream",
          "name": "stderr",
          "text": [
            " 55%|█████▌    | 602/1091 [00:51<00:43, 11.12it/s]"
          ]
        },
        {
          "output_type": "stream",
          "name": "stdout",
          "text": [
            "[epoch 10], [iter 600 / 1091], [train loss 0.14441], [train acc 0.94974]\n"
          ]
        },
        {
          "output_type": "stream",
          "name": "stderr",
          "text": [
            " 64%|██████▍   | 702/1091 [01:01<00:28, 13.42it/s]"
          ]
        },
        {
          "output_type": "stream",
          "name": "stdout",
          "text": [
            "[epoch 10], [iter 700 / 1091], [train loss 0.14308], [train acc 0.95013]\n"
          ]
        },
        {
          "output_type": "stream",
          "name": "stderr",
          "text": [
            " 73%|███████▎  | 801/1091 [01:09<00:34,  8.42it/s]"
          ]
        },
        {
          "output_type": "stream",
          "name": "stdout",
          "text": [
            "[epoch 10], [iter 800 / 1091], [train loss 0.14018], [train acc 0.95078]\n"
          ]
        },
        {
          "output_type": "stream",
          "name": "stderr",
          "text": [
            " 83%|████████▎ | 902/1091 [01:18<00:14, 12.97it/s]"
          ]
        },
        {
          "output_type": "stream",
          "name": "stdout",
          "text": [
            "[epoch 10], [iter 900 / 1091], [train loss 0.13972], [train acc 0.95076]\n"
          ]
        },
        {
          "output_type": "stream",
          "name": "stderr",
          "text": [
            " 92%|█████████▏| 1002/1091 [01:27<00:09,  9.56it/s]"
          ]
        },
        {
          "output_type": "stream",
          "name": "stdout",
          "text": [
            "[epoch 10], [iter 1000 / 1091], [train loss 0.13913], [train acc 0.95056]\n"
          ]
        },
        {
          "output_type": "stream",
          "name": "stderr",
          "text": [
            "100%|██████████| 1091/1091 [01:34<00:00, 11.59it/s]\n",
            "100%|██████████| 62/62 [00:02<00:00, 29.76it/s]"
          ]
        },
        {
          "output_type": "stream",
          "name": "stdout",
          "text": [
            "------------------------------------------------------------\n",
            "[epoch 10], [val loss 0.88371], [val acc 0.77218]\n",
            "------------------------------------------------------------\n"
          ]
        },
        {
          "output_type": "stream",
          "name": "stderr",
          "text": [
            "\n"
          ]
        }
      ],
      "source": [
        "epoch_num = 10\n",
        "best_val_acc = 0\n",
        "total_loss_val, total_acc_val = [],[]\n",
        "for epoch in range(1, epoch_num+1):\n",
        "    print('Training on epoch {}'.format(epoch))\n",
        "    loss_train, acc_train = train(train_loader, model, criterion, optimizer, epoch)\n",
        "    loss_val, acc_val = validate(val_loader, model, criterion, optimizer, epoch)\n",
        "    total_loss_val.append(loss_val)\n",
        "    total_acc_val.append(acc_val)\n",
        "    if acc_val > best_val_acc:\n",
        "        best_val_acc = acc_val\n",
        "        print('*****************************************************')\n",
        "        print('Best record: [epoch %d], [val loss %.5f], [val acc %.5f]' % (epoch, loss_val, acc_val))\n",
        "        print('*****************************************************')"
      ]
    },
    {
      "cell_type": "code",
      "source": [
        "# Save the model\n",
        "torch.save(model.state_dict(), 'best_model.pt')"
      ],
      "metadata": {
        "id": "cZYpsE5VNtyz"
      },
      "execution_count": 34,
      "outputs": []
    },
    {
      "cell_type": "code",
      "source": [
        "# Here for loading the model and evaluate it\n",
        "model.load_state_dict(torch.load('best_model.pt'))"
      ],
      "metadata": {
        "id": "PHBg0olYNyez",
        "outputId": "4def19a4-bfec-493d-92cd-ee95fbf9dc43",
        "colab": {
          "base_uri": "https://localhost:8080/"
        }
      },
      "execution_count": 36,
      "outputs": [
        {
          "output_type": "stream",
          "name": "stderr",
          "text": [
            "<ipython-input-36-4ec071c0c72e>:2: FutureWarning: You are using `torch.load` with `weights_only=False` (the current default value), which uses the default pickle module implicitly. It is possible to construct malicious pickle data which will execute arbitrary code during unpickling (See https://github.com/pytorch/pytorch/blob/main/SECURITY.md#untrusted-models for more details). In a future release, the default value for `weights_only` will be flipped to `True`. This limits the functions that could be executed during unpickling. Arbitrary objects will no longer be allowed to be loaded via this mode unless they are explicitly allowlisted by the user via `torch.serialization.add_safe_globals`. We recommend you start setting `weights_only=True` for any use case where you don't have full control of the loaded file. Please open an issue on GitHub for any issues related to this experimental feature.\n",
            "  model.load_state_dict(torch.load('best_model.pt'))\n"
          ]
        },
        {
          "output_type": "execute_result",
          "data": {
            "text/plain": [
              "<All keys matched successfully>"
            ]
          },
          "metadata": {},
          "execution_count": 36
        }
      ]
    },
    {
      "cell_type": "code",
      "source": [
        "# Here for loading the model and evaluate it\n",
        "model.load_state_dict(torch.load('best_model.pt'))\n",
        "\n",
        "# Evaluate the model\n",
        "model.eval()\n",
        "\n",
        "# Test the model\n",
        "test_set = HAM10000(test_data,test_images, transform=transform)\n",
        "test_loader = DataLoader(test_set, batch_size=batch_size, shuffle=False, num_workers=n_workers)\n",
        "\n",
        "test_acc = AverageMeter()\n",
        "with torch.no_grad():\n",
        "    for i, data in tqdm(enumerate(test_loader), total=len(test_loader)):\n",
        "        images, labels, _ = data\n",
        "        N = images.size(0)\n",
        "        images = Variable(images).to(device)\n",
        "        labels = Variable(labels).to(device)\n",
        "\n",
        "        outputs = model(images)\n",
        "        prediction = outputs.max(1, keepdim=True)[1]\n",
        "\n",
        "        test_acc.update(prediction.eq(labels.view_as(prediction)).sum().item()/N)\n",
        "\n",
        "print('------------------------------------------------------------')\n",
        "print('[test acc %.5f]' % (test_acc.avg))\n",
        "print('------------------------------------------------------------')\n",
        "\n",
        "# Plot the loss and accuracy\n",
        "plt.figure(figsize=(10, 7))\n",
        "plt.subplot(2, 1, 1)\n",
        "plt.plot(total_loss_train, label='Train Loss')\n",
        "plt.plot(total_loss_val, label='Validation Loss')\n",
        "plt.legend()\n",
        "plt.title('Loss')\n",
        "\n",
        "plt.subplot(2, 1, 2)\n",
        "plt.plot(total_acc_train, label='Train Accuracy')\n",
        "plt.plot(total_acc_val, label='Validation Accuracy')\n",
        "plt.legend()\n",
        "plt.title('Accuracy')\n",
        "plt.show()\n",
        "\n",
        "# Confusion matrix\n",
        "model.eval()\n",
        "y_true = []\n",
        "y_pred = []\n",
        "with torch.no_grad():\n",
        "    for i, data in tqdm(enumerate(test_loader), total=len(test_loader)):\n",
        "        images, labels, _ = data\n",
        "        images = Variable(images).to(device)\n",
        "        labels = Variable(labels).to(device)\n",
        "\n",
        "        outputs = model(images)\n",
        "        prediction = outputs.max(1, keepdim=True)[1]\n",
        "\n",
        "        y_true.extend(labels.cpu().numpy())\n",
        "        y_pred.extend(prediction.cpu().numpy().flatten())\n",
        "\n",
        "cm = confusion_matrix(y_true, y_pred)\n",
        "plt.figure(figsize=(10, 10))\n",
        "sns.heatmap(cm, annot=True, fmt=\"d\", cmap='Blues', xticklabels=lesion_type_dict.values(), yticklabels=lesion_type_dict.values())\n",
        "plt.title('Confusion Matrix')\n",
        "plt.xlabel('Predicted')\n",
        "plt.ylabel('Actual')\n",
        "plt.show()\n"
      ],
      "metadata": {
        "id": "A8E874loOKoS",
        "outputId": "7407d1d3-a9ee-432f-a058-92bfc6755e9a",
        "colab": {
          "base_uri": "https://localhost:8080/",
          "height": 1000
        }
      },
      "execution_count": 37,
      "outputs": [
        {
          "output_type": "stream",
          "name": "stderr",
          "text": [
            "<ipython-input-37-8a131006cb31>:2: FutureWarning: You are using `torch.load` with `weights_only=False` (the current default value), which uses the default pickle module implicitly. It is possible to construct malicious pickle data which will execute arbitrary code during unpickling (See https://github.com/pytorch/pytorch/blob/main/SECURITY.md#untrusted-models for more details). In a future release, the default value for `weights_only` will be flipped to `True`. This limits the functions that could be executed during unpickling. Arbitrary objects will no longer be allowed to be loaded via this mode unless they are explicitly allowlisted by the user via `torch.serialization.add_safe_globals`. We recommend you start setting `weights_only=True` for any use case where you don't have full control of the loaded file. Please open an issue on GitHub for any issues related to this experimental feature.\n",
            "  model.load_state_dict(torch.load('best_model.pt'))\n",
            "100%|██████████| 62/62 [00:08<00:00,  7.54it/s]\n"
          ]
        },
        {
          "output_type": "stream",
          "name": "stdout",
          "text": [
            "------------------------------------------------------------\n",
            "[test acc 0.77218]\n",
            "------------------------------------------------------------\n"
          ]
        },
        {
          "output_type": "display_data",
          "data": {
            "text/plain": [
              "<Figure size 1000x700 with 2 Axes>"
            ],
            "image/png": "[encoded data removed]"
          },
          "metadata": {}
        },
        {
          "output_type": "stream",
          "name": "stderr",
          "text": [
            "100%|██████████| 62/62 [00:02<00:00, 29.61it/s]\n"
          ]
        },
        {
          "output_type": "display_data",
          "data": {
            "text/plain": [
              "<Figure size 1000x1000 with 2 Axes>"
            ],
            "image/png": "[encoded data removed]"
          },
          "metadata": {}
        }
      ]
    }
  ],
  "metadata": {
    "accelerator": "GPU",
    "colab": {
      "gpuType": "T4",
      "provenance": [],
      "include_colab_link": true
    },
    "kernelspec": {
      "display_name": "Python 3",
      "name": "python3"
    },
    "language_info": {
      "codemirror_mode": {
        "name": "ipython",
        "version": 3
      },
      "file_extension": ".py",
      "mimetype": "text/x-python",
      "name": "python",
      "nbconvert_exporter": "python",
      "pygments_lexer": "ipython3",
      "version": "3.11.9"
    }
  },
  "nbformat": 4,
  "nbformat_minor": 0
}